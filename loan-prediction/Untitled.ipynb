{
 "cells": [
  {
   "cell_type": "markdown",
   "metadata": {},
   "source": [
    "# Loan Prediction Practice Problem\n",
    "A Data Visualization & Machine Learning Practice, dataset is from **Analytics Vidhya** ([link](https://datahack.analyticsvidhya.com/contest/practice-problem-loan-prediction-iii/#About))\n",
    "<br>\n",
    "<br>\n",
    "***Objective: Predict Loan Eligibility for Dream Housing Finance company***\n",
    "\n",
    "Dream Housing Finance company deals in all kinds of home loans. They have presence across all urban, semi urban and rural areas. Customer first applies for home loan and after that company validates the customer eligibility for loan.\n",
    "\n",
    "Company wants to automate the loan eligibility process (real time) based on customer detail provided while filling online application form. These details are **Gender**, **Marital Status**, **Education**, **Number of Dependents**, **Income**, **Loan Amount**, **Credit History** and others. To automate this process, they have provided a dataset to identify the customers segments that are eligible for loan amount so that they can specifically target these customers. \n",
    "<br>\n",
    "<br>\n",
    "***Column Description***\n",
    "\n",
    "* *Loan_ID* -\tUnique Loan ID\n",
    "* *Gender* -\tMale/ Female\n",
    "* *Married* -\tApplicant married (Y/N)\n",
    "* *Dependents* -\tNumber of dependents\n",
    "* *Education* -\tApplicant Education (Graduate/ Under Graduate)\n",
    "* *Self_Employed* -\tSelf employed (Y/N)\n",
    "* *ApplicantIncome* -\tApplicant income\n",
    "* *CoapplicantIncome* -\tCoapplicant income\n",
    "* *LoanAmount* -\tLoan amount in thousands\n",
    "* *Loan_Amount_Term* -\tTerm of loan in months\n",
    "* *Credit_History* -\tcredit history meets guidelines\n",
    "* *Property_Area* -\tUrban/ Semi Urban/ Rural\n",
    "* *Loan_Status* -\t(Target) Loan approved (Y/N)"
   ]
  },
  {
   "cell_type": "code",
   "execution_count": null,
   "metadata": {},
   "outputs": [],
   "source": [
    "# Set up\n",
    "import pandas as pd\n",
    "import matplotlib.pyplot as plt\n",
    "import seaborn as sns\n",
    "from pylab import *\n",
    "%matplotlib inline\n",
    "\n",
    "train = pd.read_csv('./data/train.csv')\n",
    "print(train.shape)\n",
    "train.head()"
   ]
  },
  {
   "cell_type": "code",
   "execution_count": null,
   "metadata": {},
   "outputs": [],
   "source": [
    "train.dtypes"
   ]
  },
  {
   "cell_type": "code",
   "execution_count": null,
   "metadata": {},
   "outputs": [],
   "source": [
    "# Collecting the 'object' columns\n",
    "obj_cols = list(train.columns[train.dtypes=='object'])\n",
    "obj_cols.remove('Loan_ID')\n",
    "obj_cols"
   ]
  },
  {
   "cell_type": "code",
   "execution_count": null,
   "metadata": {},
   "outputs": [],
   "source": [
    "# Showing unique values of each column with 'object' data types\n",
    "# This will help determine how to preprocess them into number data types\n",
    "for col in obj_cols:\n",
    "    print(f\"{col}:\")\n",
    "    print(f\"{train[col].unique()}\\n\")"
   ]
  },
  {
   "cell_type": "markdown",
   "metadata": {},
   "source": [
    "# Preprocessing Data"
   ]
  },
  {
   "cell_type": "code",
   "execution_count": null,
   "metadata": {},
   "outputs": [],
   "source": [
    "ntrain = train.copy()"
   ]
  },
  {
   "cell_type": "markdown",
   "metadata": {},
   "source": [
    "## Finding missing values"
   ]
  },
  {
   "cell_type": "code",
   "execution_count": null,
   "metadata": {},
   "outputs": [],
   "source": [
    "rows = train.shape[0]\n",
    "\n",
    "for col in ntrain.columns:\n",
    "    missing = ntrain[col].isnull().sum()\n",
    "    if missing > 0:\n",
    "        print(f\"{col}: {(missing/rows)*100:.2f}%\")\n",
    "        print(f\"{missing} missing values out of {rows}\\n\")"
   ]
  },
  {
   "cell_type": "markdown",
   "metadata": {},
   "source": [
    "Luckily, none of the columns above have significantly large amounts of missing data, so I will simply determine the missing values myself based on similar patterns. The first step that comes to mind is starting with the personal information data of the applicants, like gender, marriage status, number of dependents, employment type, and credit history.\n",
    "\n",
    "### Gender"
   ]
  },
  {
   "cell_type": "code",
   "execution_count": null,
   "metadata": {},
   "outputs": [],
   "source": [
    "ntrain[ntrain.Gender.isnull()]"
   ]
  },
  {
   "cell_type": "code",
   "execution_count": null,
   "metadata": {},
   "outputs": [],
   "source": [
    "sns.set(rc={'figure.figsize': (12,6)})\n",
    "\n",
    "# The 'Gender' column\n",
    "subplot(1,2,1)\n",
    "sns.countplot(data=ntrain, x='Gender')\n",
    "\n",
    "# The 'Married' column\n",
    "subplot(1,2,2)\n",
    "sns.countplot(data=ntrain, x='Married', hue='Gender')\n",
    "\n",
    "plt.show()"
   ]
  },
  {
   "cell_type": "markdown",
   "metadata": {},
   "source": [
    "One thing I can infer from this is that a married applicant with a null gender value would most probably be male."
   ]
  },
  {
   "cell_type": "code",
   "execution_count": null,
   "metadata": {},
   "outputs": [],
   "source": [
    "ntrain.loc[(ntrain.Gender.isnull()) & (ntrain.Married=='Yes'), \"Gender\"] = \"Male\"\n",
    "ntrain.loc[(ntrain.Gender.isnull()) & (ntrain.Married=='Yes')]"
   ]
  },
  {
   "cell_type": "code",
   "execution_count": null,
   "metadata": {},
   "outputs": [],
   "source": [
    "ntrain[ntrain.Gender.isnull()]"
   ]
  },
  {
   "cell_type": "markdown",
   "metadata": {},
   "source": [
    "All three applicants who still do not have a gender value are not married and have an education level of graduate (or above). Applicants no. 507 and no. 588 both have no dependents and are not self employed while applicant no. 592 has 3+ dependents, is self employed, and is a high income earner. Now I want to see which gender share similar patterns."
   ]
  },
  {
   "cell_type": "code",
   "execution_count": null,
   "metadata": {},
   "outputs": [],
   "source": [
    "# Plotting cases for applicants who have 3+ dependents, are above-average income earners, and are self employed.\n",
    "\n",
    "sns.set(rc={'figure.figsize': (18,7)})\n",
    "\n",
    "subplot(1,3,1)\n",
    "plt.title('3+ Dependents')\n",
    "sns.countplot(data=ntrain[ntrain.Dependents=='3+'], x='Gender')\n",
    "\n",
    "subplot(1,3,2)\n",
    "plt.title('Above-average income earners')\n",
    "sns.swarmplot(data=ntrain[ntrain.ApplicantIncome>ntrain.ApplicantIncome.mean()], x='Gender', y='ApplicantIncome')\n",
    "\n",
    "subplot(1,3,3)\n",
    "plt.title('Self employed applicants')\n",
    "sns.countplot(data=ntrain, x='Self_Employed', hue='Gender')\n",
    "\n",
    "plt.show()"
   ]
  },
  {
   "cell_type": "markdown",
   "metadata": {},
   "source": [
    "So applicant no. 592 is, by probability, a male."
   ]
  },
  {
   "cell_type": "code",
   "execution_count": null,
   "metadata": {},
   "outputs": [],
   "source": [
    "ntrain.loc[592,'Gender'] = 'Male'\n",
    "ntrain.iloc[592, :]"
   ]
  },
  {
   "cell_type": "code",
   "execution_count": null,
   "metadata": {},
   "outputs": [],
   "source": [
    "# Plotting cases for applicants with no dependents and applied for a loan amount of about $90~100 grand\n",
    "sns.set(rc={'figure.figsize': (14,6)})\n",
    "\n",
    "subplot(1,2,1)\n",
    "plt.title('No dependents')\n",
    "sns.countplot(data=ntrain[ntrain.Dependents=='0'], x='Gender')\n",
    "\n",
    "subplot(1,2,2)\n",
    "plt.title('Loan amount between $90~100 grand')\n",
    "sns.swarmplot(data=ntrain[(ntrain.LoanAmount<100)&(ntrain.LoanAmount>90)], x='Gender', y='LoanAmount')\n",
    "\n",
    "plt.show()"
   ]
  },
  {
   "cell_type": "markdown",
   "metadata": {},
   "source": [
    "So... applicants no. 507 and no. 588 would also be male"
   ]
  },
  {
   "cell_type": "code",
   "execution_count": null,
   "metadata": {},
   "outputs": [],
   "source": [
    "ntrain.loc[[507,588],'Gender'] = 'Male'\n",
    "ntrain.iloc[[507,588], :]"
   ]
  },
  {
   "cell_type": "code",
   "execution_count": null,
   "metadata": {},
   "outputs": [],
   "source": [
    "ntrain[ntrain.Gender.isnull()]"
   ]
  },
  {
   "cell_type": "markdown",
   "metadata": {},
   "source": [
    "### Marriage Status"
   ]
  },
  {
   "cell_type": "code",
   "execution_count": null,
   "metadata": {},
   "outputs": [],
   "source": [
    "ntrain[ntrain.Married.isnull()]"
   ]
  },
  {
   "cell_type": "markdown",
   "metadata": {},
   "source": [
    "Observations:\n",
    "1. Applicants no.104 and no.228 are both male, have below-average income, and applied for approximately the same amount.\n",
    "2. Applicant no.435 is female and has a well over average income\n",
    "\n",
    "So I will see the marriage status of applicants with similar gender & income patterns"
   ]
  },
  {
   "cell_type": "code",
   "execution_count": null,
   "metadata": {},
   "outputs": [],
   "source": [
    "# Marriage status of male applicants with below-average income and who applied for a loan amount between $150~170 grand\n",
    "# I'm supposing the loan amount and marriage status would have some sort of correlation...\n",
    "filtered = ntrain[(ntrain.Gender=='Male')&(ntrain.ApplicantIncome<ntrain.ApplicantIncome.mean())&(ntrain.LoanAmount>150)&(ntrain.LoanAmount<170)]\n",
    "sns.countplot(data=filtered, x='Married')"
   ]
  },
  {
   "cell_type": "markdown",
   "metadata": {},
   "source": [
    "It seems fairly just to give applicants no.104 and no.228 a 'yes' value to their marriage status"
   ]
  },
  {
   "cell_type": "code",
   "execution_count": null,
   "metadata": {},
   "outputs": [],
   "source": [
    "ntrain.loc[[104,228],'Married'] = 'Yes'\n",
    "ntrain.iloc[[104,228], :]"
   ]
  },
  {
   "cell_type": "code",
   "execution_count": null,
   "metadata": {},
   "outputs": [],
   "source": [
    "# Marriage status of high-income female applicants\n",
    "sns.swarmplot(data=ntrain[(ntrain.Gender=='Female')&(ntrain.ApplicantIncome>8000)], x='Married', y='ApplicantIncome')"
   ]
  },
  {
   "cell_type": "code",
   "execution_count": null,
   "metadata": {},
   "outputs": [],
   "source": [
    "ntrain.loc[435, 'Married'] = 'No'\n",
    "ntrain.iloc[435]"
   ]
  },
  {
   "cell_type": "code",
   "execution_count": null,
   "metadata": {},
   "outputs": [],
   "source": [
    "ntrain[ntrain.Married.isnull()]"
   ]
  },
  {
   "cell_type": "markdown",
   "metadata": {},
   "source": [
    "### Dependents"
   ]
  },
  {
   "cell_type": "code",
   "execution_count": null,
   "metadata": {},
   "outputs": [],
   "source": [
    "ntrain[ntrain.Dependents.isnull()]"
   ]
  },
  {
   "cell_type": "code",
   "execution_count": null,
   "metadata": {},
   "outputs": [],
   "source": [
    "sns.countplot(data=ntrain, x='Dependents', hue='Married')"
   ]
  },
  {
   "cell_type": "markdown",
   "metadata": {},
   "source": [
    "Some immediate findings can be that regardless of marriage status or education level of the applicant, the chances of them having any dependents is relatively small, especially is the applicant is not married. To me this seems like a safe indicator that it would be okay to replace all null values of 'Dependents' unmarried applicants to 0."
   ]
  },
  {
   "cell_type": "code",
   "execution_count": null,
   "metadata": {},
   "outputs": [],
   "source": [
    "ntrain.loc[ntrain.Dependents.isnull() & (ntrain.Married=='No'), 'Dependents'] = '0'\n",
    "ntrain[ntrain.Dependents.isnull()]"
   ]
  },
  {
   "cell_type": "markdown",
   "metadata": {},
   "source": [
    "Now, if the applicant is married, is there a definite pattern between the education level, income, loan amount of applicants and the number of dependents they have?"
   ]
  },
  {
   "cell_type": "code",
   "execution_count": null,
   "metadata": {},
   "outputs": [],
   "source": []
  },
  {
   "cell_type": "code",
   "execution_count": null,
   "metadata": {},
   "outputs": [],
   "source": []
  },
  {
   "cell_type": "code",
   "execution_count": null,
   "metadata": {},
   "outputs": [],
   "source": []
  },
  {
   "cell_type": "code",
   "execution_count": null,
   "metadata": {},
   "outputs": [],
   "source": []
  },
  {
   "cell_type": "code",
   "execution_count": null,
   "metadata": {},
   "outputs": [],
   "source": []
  },
  {
   "cell_type": "code",
   "execution_count": null,
   "metadata": {},
   "outputs": [],
   "source": []
  },
  {
   "cell_type": "code",
   "execution_count": null,
   "metadata": {},
   "outputs": [],
   "source": [
    "females = ntrain[ntrain.Gender=='Female']\n",
    "males = ntrain[ntrain.Gender=='Male']"
   ]
  },
  {
   "cell_type": "markdown",
   "metadata": {},
   "source": [
    "### Marriage status and Income, by gender"
   ]
  },
  {
   "cell_type": "code",
   "execution_count": null,
   "metadata": {},
   "outputs": [],
   "source": [
    "print(\"Female applicants' Income, by their marriage status\")\n",
    "print(f\"The average income for all female applicants is: {ntrain[ntrain.Gender=='Female'].ApplicantIncome.mean():.2f}\")\n",
    "income_by_marriage_female = pd.pivot_table(females, index='Married', values='ApplicantIncome')\n",
    "income_by_marriage_female"
   ]
  },
  {
   "cell_type": "code",
   "execution_count": null,
   "metadata": {},
   "outputs": [],
   "source": [
    "print(\"Male applicants' Income, by their marriage status\")\n",
    "print(f\"The average income for all male applicants is: {ntrain[ntrain.Gender=='Male'].ApplicantIncome.mean():.2f}\")\n",
    "income_by_marriage_male = pd.pivot_table(males, index='Married', values='ApplicantIncome')\n",
    "income_by_marriage_male"
   ]
  },
  {
   "cell_type": "code",
   "execution_count": null,
   "metadata": {},
   "outputs": [],
   "source": [
    "print(f\"Married female applicants earn {(income_by_marriage_female.iloc[1][0]/income_by_marriage_female.iloc[0][0])*100:.2f}% more than their unmarried counterparts\")\n",
    "print(f\"Married male applicants earn {(income_by_marriage_male.iloc[1][0]/income_by_marriage_male.iloc[0][0])*100:.2f}% more than their unmarried counterparts\")"
   ]
  },
  {
   "cell_type": "code",
   "execution_count": null,
   "metadata": {},
   "outputs": [],
   "source": [
    "pd.pivot_table(females, index=['Married','Education'], values=['ApplicantIncome', 'CoapplicantIncome'])"
   ]
  },
  {
   "cell_type": "markdown",
   "metadata": {},
   "source": [
    "1. The highest earning group of female applicants is married females with an education level of graduate (or higher).\n",
    "2. Unmarried female applicants with a lower education status has the lowest income but the highest co-applicant income.\n",
    "3. Surprisingly, if not married, non-graduate applicants earn more than graduate applicants."
   ]
  },
  {
   "cell_type": "code",
   "execution_count": null,
   "metadata": {},
   "outputs": [],
   "source": [
    "pd.pivot_table(males, index=['Married','Education'], values=['ApplicantIncome', 'CoapplicantIncome'])"
   ]
  },
  {
   "cell_type": "code",
   "execution_count": null,
   "metadata": {},
   "outputs": [],
   "source": [
    "sns.countplot(data=females, x='Married', hue='Education')"
   ]
  },
  {
   "cell_type": "code",
   "execution_count": null,
   "metadata": {},
   "outputs": [],
   "source": []
  },
  {
   "cell_type": "code",
   "execution_count": null,
   "metadata": {},
   "outputs": [],
   "source": [
    "males.describe()"
   ]
  },
  {
   "cell_type": "code",
   "execution_count": null,
   "metadata": {},
   "outputs": [],
   "source": [
    "# How does the level of education affect an applicant's Income bracket \n",
    "# (as well as the income bracket of their coapplicant)\n",
    "print(pd.pivot_table(ntrain, index='Education', values='ApplicantIncome'))\n",
    "print('\\n')\n",
    "print(pd.pivot_table(ntrain, index='Education', values='CoapplicantIncome'))"
   ]
  },
  {
   "cell_type": "code",
   "execution_count": null,
   "metadata": {},
   "outputs": [],
   "source": [
    "# The 'Dependents' column\n",
    "sns.set(rc={'figure.figsize': (14,20)})\n",
    "\n",
    "subplot(3,1,1)\n",
    "plt.title(\"Number of dependents & Marriage status\")\n",
    "f1 = sns.countplot(data=ntrain, x='Dependents', hue='Married')\n",
    "\n",
    "subplot(3,1,2)\n",
    "plt.title(\"Number of dependents & Education level\")\n",
    "f2 = sns.countplot(data=ntrain, x='Dependents', hue='Education')\n",
    "\n",
    "subplot(3,1,3)\n",
    "plt.title(\"Number of dependents & Applicant Income\")\n",
    "f3 = sns.swarmplot(data=ntrain, x='Dependents', y='ApplicantIncome')\n",
    "\n",
    "plt.show()"
   ]
  },
  {
   "cell_type": "code",
   "execution_count": null,
   "metadata": {},
   "outputs": [],
   "source": [
    "# The 'Self_Employed' column"
   ]
  },
  {
   "cell_type": "code",
   "execution_count": null,
   "metadata": {},
   "outputs": [],
   "source": [
    "# The 'LoanAmount' and 'Loan_Amount_Term' columns"
   ]
  },
  {
   "cell_type": "code",
   "execution_count": null,
   "metadata": {},
   "outputs": [],
   "source": [
    "# The 'Credit_History' column"
   ]
  },
  {
   "cell_type": "markdown",
   "metadata": {},
   "source": []
  },
  {
   "cell_type": "code",
   "execution_count": null,
   "metadata": {},
   "outputs": [],
   "source": [
    "ntrain.loc[ntrain.Dependents.isnull(), 'Dependents'] = '0'\n",
    "ntrain[ntrain.Dependents.isnull()]"
   ]
  },
  {
   "cell_type": "code",
   "execution_count": null,
   "metadata": {},
   "outputs": [],
   "source": []
  },
  {
   "cell_type": "markdown",
   "metadata": {},
   "source": []
  },
  {
   "cell_type": "code",
   "execution_count": null,
   "metadata": {},
   "outputs": [],
   "source": []
  },
  {
   "cell_type": "code",
   "execution_count": null,
   "metadata": {},
   "outputs": [],
   "source": []
  },
  {
   "cell_type": "code",
   "execution_count": null,
   "metadata": {},
   "outputs": [],
   "source": []
  },
  {
   "cell_type": "code",
   "execution_count": null,
   "metadata": {},
   "outputs": [],
   "source": []
  },
  {
   "cell_type": "code",
   "execution_count": null,
   "metadata": {},
   "outputs": [],
   "source": [
    "# Creating a copy of the original dataset\n",
    "ntrain = train.copy()\n",
    "\n",
    "# Binary Encoding the following columns:\n",
    "# (Generally 0 means 'no' or implies negation, while 1 the opposite)\n",
    "\n",
    "# Gender\n",
    "ntrain.loc[ntrain.Gender == 'Male', 'Gender_encoded'] = 0\n",
    "ntrain.loc[ntrain.Gender == 'Female', 'Gender_encoded'] = 1\n",
    "print(ntrain.shape)\n",
    "\n",
    "# Married\n",
    "ntrain.loc[ntrain.Married == 'No', 'is_married'] = 0\n",
    "ntrain.loc[ntrain.Married == 'Yes', 'is_married'] = 1\n",
    "print(ntrain.shape)\n",
    "\n",
    "# Married\n",
    "ntrain.loc[ntrain.Education == 'No', 'is_graduate'] = 0\n",
    "ntrain.loc[ntrain.Education == 'Yes', 'is_graduate'] = 1\n",
    "print(ntrain.shape)\n",
    "\n",
    "# Self_Employed\n",
    "ntrain.loc[ntrain.Self_Employed == 'No', 'is_self_employed'] = 0\n",
    "ntrain.loc[ntrain.Self_Employed == 'Yes', 'is_self_employed'] = 1\n",
    "print(ntrain.shape)\n",
    "\n",
    "# Loan_Status\n",
    "ntrain.loc[ntrain.Loan_Status == 'N', 'loan_approved'] = 0\n",
    "ntrain.loc[ntrain.Loan_Status == 'Y', 'loan_approved'] = 1\n",
    "print(ntrain.shape)\n",
    "\n",
    "ntrain.head()"
   ]
  },
  {
   "cell_type": "code",
   "execution_count": null,
   "metadata": {
    "scrolled": true
   },
   "outputs": [],
   "source": [
    "from sklearn.preprocessing import LabelBinarizer\n",
    "binarizer = LabelBinarizer()\n",
    "\n",
    "# Creat a new column called 'has_child'\n",
    "ntrain.loc[ntrain.Dependents=='0', 'has_child'] = 0\n",
    "ntrain.loc[ntrain.has_child.isnull(), 'has_child'] = 1\n",
    "\n",
    "# Dependents\n",
    "ntrain.Dependents = ntrain.Dependents.astype(str)\n",
    "results = binarizer.fit_transform(ntrain[\"Dependents\"])\n",
    "dependents_encoded = pd.DataFrame(results, columns=['0','1','2','3','nan'])\n",
    "\n",
    "# Property_Area\n",
    "results = binarizer.fit_transform(ntrain[\"Property_Area\"])\n",
    "property_area_encoded = pd.DataFrame(results, columns=binarizer.classes_)\n",
    "\n",
    "ntrain = pd.concat([ntrain, education_encoded, property_area_encoded, dependents_encoded], axis=1, sort=False)\n",
    "ntrain.drop('Property_Area', axis=1, inplace=True)\n",
    "ntrain.drop('Dependents', axis=1, inplace=True)\n",
    "\n",
    "ntrain.head()"
   ]
  },
  {
   "cell_type": "markdown",
   "metadata": {},
   "source": [
    "# Finding correlation between columns"
   ]
  },
  {
   "cell_type": "code",
   "execution_count": null,
   "metadata": {},
   "outputs": [],
   "source": [
    "train.head()"
   ]
  },
  {
   "cell_type": "code",
   "execution_count": null,
   "metadata": {},
   "outputs": [],
   "source": [
    "sns."
   ]
  },
  {
   "cell_type": "code",
   "execution_count": null,
   "metadata": {},
   "outputs": [],
   "source": [
    "plt.figure(figsize=(10,8))\n",
    "sns.countplot(data=train, x='Married', hue='Gender')"
   ]
  },
  {
   "cell_type": "code",
   "execution_count": null,
   "metadata": {},
   "outputs": [],
   "source": [
    "train[train.Gender.isnull()]"
   ]
  },
  {
   "cell_type": "code",
   "execution_count": null,
   "metadata": {},
   "outputs": [],
   "source": [
    "sns.countplot(data=train, x='Self_Employed', hue='Gender')"
   ]
  },
  {
   "cell_type": "code",
   "execution_count": null,
   "metadata": {},
   "outputs": [],
   "source": [
    "sns.pairplot(train, hue='Gender', height=2.5)"
   ]
  },
  {
   "cell_type": "code",
   "execution_count": null,
   "metadata": {},
   "outputs": [],
   "source": []
  },
  {
   "cell_type": "markdown",
   "metadata": {},
   "source": [
    "# Preprocessing Data (2)"
   ]
  },
  {
   "cell_type": "code",
   "execution_count": null,
   "metadata": {},
   "outputs": [],
   "source": []
  }
 ],
 "metadata": {
  "kernelspec": {
   "display_name": "Python 3",
   "language": "python",
   "name": "python3"
  },
  "language_info": {
   "codemirror_mode": {
    "name": "ipython",
    "version": 3
   },
   "file_extension": ".py",
   "mimetype": "text/x-python",
   "name": "python",
   "nbconvert_exporter": "python",
   "pygments_lexer": "ipython3",
   "version": "3.8.1"
  }
 },
 "nbformat": 4,
 "nbformat_minor": 4
}
