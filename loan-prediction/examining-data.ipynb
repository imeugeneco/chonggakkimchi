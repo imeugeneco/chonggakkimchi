{
 "cells": [
  {
   "cell_type": "markdown",
   "metadata": {},
   "source": [
    "# Loan Prediction Practice Problem\n",
    "A Data Visualization & Machine Learning Practice, dataset is from **Analytics Vidhya** ([link](https://datahack.analyticsvidhya.com/contest/practice-problem-loan-prediction-iii/#About))\n",
    "<br>\n",
    "<br>\n",
    "***Objective: Predict Loan Eligibility for Dream Housing Finance company***\n",
    "\n",
    "Dream Housing Finance company deals in all kinds of home loans. They have presence across all urban, semi urban and rural areas. Customer first applies for home loan and after that company validates the customer eligibility for loan.\n",
    "\n",
    "Company wants to automate the loan eligibility process (real time) based on customer detail provided while filling online application form. These details are **Gender**, **Marital Status**, **Education**, **Number of Dependents**, **Income**, **Loan Amount**, **Credit History** and others. To automate this process, they have provided a dataset to identify the customers segments that are eligible for loan amount so that they can specifically target these customers. \n",
    "<br>\n",
    "<br>\n",
    "***Column Description***\n",
    "\n",
    "* *Loan_ID* -\tUnique Loan ID\n",
    "* *Gender* -\tMale/ Female\n",
    "* *Married* -\tApplicant married (Y/N)\n",
    "* *Dependents* -\tNumber of dependents\n",
    "* *Education* -\tApplicant Education (Graduate/ Under Graduate)\n",
    "* *Self_Employed* -\tSelf employed (Y/N)\n",
    "* *ApplicantIncome* -\tApplicant income\n",
    "* *CoapplicantIncome* -\tCoapplicant income\n",
    "* *LoanAmount* -\tLoan amount in thousands\n",
    "* *Loan_Amount_Term* -\tTerm of loan in months\n",
    "* *Credit_History* -\tcredit history meets guidelines\n",
    "* *Property_Area* -\tUrban/ Semi Urban/ Rural\n",
    "* *Loan_Status* -\t(Target) Loan approved (Y/N)"
   ]
  },
  {
   "cell_type": "code",
   "execution_count": 1,
   "metadata": {},
   "outputs": [
    {
     "name": "stdout",
     "output_type": "stream",
     "text": [
      "(614, 13)\n"
     ]
    },
    {
     "data": {
      "text/html": [
       "<div>\n",
       "<style scoped>\n",
       "    .dataframe tbody tr th:only-of-type {\n",
       "        vertical-align: middle;\n",
       "    }\n",
       "\n",
       "    .dataframe tbody tr th {\n",
       "        vertical-align: top;\n",
       "    }\n",
       "\n",
       "    .dataframe thead th {\n",
       "        text-align: right;\n",
       "    }\n",
       "</style>\n",
       "<table border=\"1\" class=\"dataframe\">\n",
       "  <thead>\n",
       "    <tr style=\"text-align: right;\">\n",
       "      <th></th>\n",
       "      <th>Loan_ID</th>\n",
       "      <th>Gender</th>\n",
       "      <th>Married</th>\n",
       "      <th>Dependents</th>\n",
       "      <th>Education</th>\n",
       "      <th>Self_Employed</th>\n",
       "      <th>ApplicantIncome</th>\n",
       "      <th>CoapplicantIncome</th>\n",
       "      <th>LoanAmount</th>\n",
       "      <th>Loan_Amount_Term</th>\n",
       "      <th>Credit_History</th>\n",
       "      <th>Property_Area</th>\n",
       "      <th>Loan_Status</th>\n",
       "    </tr>\n",
       "  </thead>\n",
       "  <tbody>\n",
       "    <tr>\n",
       "      <th>0</th>\n",
       "      <td>LP001002</td>\n",
       "      <td>Male</td>\n",
       "      <td>No</td>\n",
       "      <td>0</td>\n",
       "      <td>Graduate</td>\n",
       "      <td>No</td>\n",
       "      <td>5849</td>\n",
       "      <td>0.0</td>\n",
       "      <td>NaN</td>\n",
       "      <td>360.0</td>\n",
       "      <td>1.0</td>\n",
       "      <td>Urban</td>\n",
       "      <td>Y</td>\n",
       "    </tr>\n",
       "    <tr>\n",
       "      <th>1</th>\n",
       "      <td>LP001003</td>\n",
       "      <td>Male</td>\n",
       "      <td>Yes</td>\n",
       "      <td>1</td>\n",
       "      <td>Graduate</td>\n",
       "      <td>No</td>\n",
       "      <td>4583</td>\n",
       "      <td>1508.0</td>\n",
       "      <td>128.0</td>\n",
       "      <td>360.0</td>\n",
       "      <td>1.0</td>\n",
       "      <td>Rural</td>\n",
       "      <td>N</td>\n",
       "    </tr>\n",
       "    <tr>\n",
       "      <th>2</th>\n",
       "      <td>LP001005</td>\n",
       "      <td>Male</td>\n",
       "      <td>Yes</td>\n",
       "      <td>0</td>\n",
       "      <td>Graduate</td>\n",
       "      <td>Yes</td>\n",
       "      <td>3000</td>\n",
       "      <td>0.0</td>\n",
       "      <td>66.0</td>\n",
       "      <td>360.0</td>\n",
       "      <td>1.0</td>\n",
       "      <td>Urban</td>\n",
       "      <td>Y</td>\n",
       "    </tr>\n",
       "    <tr>\n",
       "      <th>3</th>\n",
       "      <td>LP001006</td>\n",
       "      <td>Male</td>\n",
       "      <td>Yes</td>\n",
       "      <td>0</td>\n",
       "      <td>Not Graduate</td>\n",
       "      <td>No</td>\n",
       "      <td>2583</td>\n",
       "      <td>2358.0</td>\n",
       "      <td>120.0</td>\n",
       "      <td>360.0</td>\n",
       "      <td>1.0</td>\n",
       "      <td>Urban</td>\n",
       "      <td>Y</td>\n",
       "    </tr>\n",
       "    <tr>\n",
       "      <th>4</th>\n",
       "      <td>LP001008</td>\n",
       "      <td>Male</td>\n",
       "      <td>No</td>\n",
       "      <td>0</td>\n",
       "      <td>Graduate</td>\n",
       "      <td>No</td>\n",
       "      <td>6000</td>\n",
       "      <td>0.0</td>\n",
       "      <td>141.0</td>\n",
       "      <td>360.0</td>\n",
       "      <td>1.0</td>\n",
       "      <td>Urban</td>\n",
       "      <td>Y</td>\n",
       "    </tr>\n",
       "  </tbody>\n",
       "</table>\n",
       "</div>"
      ],
      "text/plain": [
       "    Loan_ID Gender Married Dependents     Education Self_Employed  \\\n",
       "0  LP001002   Male      No          0      Graduate            No   \n",
       "1  LP001003   Male     Yes          1      Graduate            No   \n",
       "2  LP001005   Male     Yes          0      Graduate           Yes   \n",
       "3  LP001006   Male     Yes          0  Not Graduate            No   \n",
       "4  LP001008   Male      No          0      Graduate            No   \n",
       "\n",
       "   ApplicantIncome  CoapplicantIncome  LoanAmount  Loan_Amount_Term  \\\n",
       "0             5849                0.0         NaN             360.0   \n",
       "1             4583             1508.0       128.0             360.0   \n",
       "2             3000                0.0        66.0             360.0   \n",
       "3             2583             2358.0       120.0             360.0   \n",
       "4             6000                0.0       141.0             360.0   \n",
       "\n",
       "   Credit_History Property_Area Loan_Status  \n",
       "0             1.0         Urban           Y  \n",
       "1             1.0         Rural           N  \n",
       "2             1.0         Urban           Y  \n",
       "3             1.0         Urban           Y  \n",
       "4             1.0         Urban           Y  "
      ]
     },
     "execution_count": 1,
     "metadata": {},
     "output_type": "execute_result"
    }
   ],
   "source": [
    "# Set up\n",
    "import pandas as pd\n",
    "import matplotlib.pyplot as plt\n",
    "import seaborn as sns\n",
    "from pylab import *\n",
    "%matplotlib inline\n",
    "\n",
    "train = pd.read_csv('./data/train.csv')\n",
    "print(train.shape)\n",
    "train.head()"
   ]
  },
  {
   "cell_type": "code",
   "execution_count": null,
   "metadata": {},
   "outputs": [],
   "source": [
    "train.dtypes"
   ]
  },
  {
   "cell_type": "code",
   "execution_count": null,
   "metadata": {},
   "outputs": [],
   "source": [
    "# Collecting the 'object' columns\n",
    "obj_cols = list(train.columns[train.dtypes=='object'])\n",
    "obj_cols.remove('Loan_ID')\n",
    "obj_cols"
   ]
  },
  {
   "cell_type": "code",
   "execution_count": null,
   "metadata": {},
   "outputs": [],
   "source": [
    "# Showing unique values of each column with 'object' data types\n",
    "# This will help determine how to preprocess them into number data types\n",
    "for col in obj_cols:\n",
    "    print(f\"{col}:\")\n",
    "    print(f\"{train[col].unique()}\\n\")"
   ]
  },
  {
   "cell_type": "markdown",
   "metadata": {},
   "source": [
    "# Preprocessing Data"
   ]
  },
  {
   "cell_type": "code",
   "execution_count": null,
   "metadata": {},
   "outputs": [],
   "source": [
    "ntrain = train.copy()"
   ]
  },
  {
   "cell_type": "markdown",
   "metadata": {},
   "source": [
    "## Finding missing values"
   ]
  },
  {
   "cell_type": "code",
   "execution_count": null,
   "metadata": {},
   "outputs": [],
   "source": [
    "rows = train.shape[0]\n",
    "\n",
    "for col in ntrain.columns:\n",
    "    missing = ntrain[col].isnull().sum()\n",
    "    if missing > 0:\n",
    "        print(f\"{col}: {(missing/rows)*100:.2f}%\")\n",
    "        print(f\"{missing} missing values out of {rows}\\n\")"
   ]
  },
  {
   "cell_type": "markdown",
   "metadata": {},
   "source": [
    "Luckily, none of the columns above have significantly large amounts of missing data, so I will simply determine the missing values myself based on similar patterns. The first step that comes to mind is starting with the personal information data of the applicants, like gender, marriage status, number of dependents, employment type, and credit history.\n",
    "\n",
    "### Gender"
   ]
  },
  {
   "cell_type": "code",
   "execution_count": null,
   "metadata": {},
   "outputs": [],
   "source": [
    "ntrain[ntrain.Gender.isnull()]"
   ]
  },
  {
   "cell_type": "code",
   "execution_count": null,
   "metadata": {},
   "outputs": [],
   "source": [
    "sns.set(rc={'figure.figsize': (12,6)})\n",
    "\n",
    "# The 'Gender' column\n",
    "subplot(1,2,1)\n",
    "sns.countplot(data=ntrain, x='Gender')\n",
    "\n",
    "# The 'Married' column\n",
    "subplot(1,2,2)\n",
    "sns.countplot(data=ntrain, x='Married', hue='Gender')\n",
    "\n",
    "plt.show()"
   ]
  },
  {
   "cell_type": "markdown",
   "metadata": {},
   "source": [
    "One thing I can infer from this is that a married applicant with a null gender value would most probably be male."
   ]
  },
  {
   "cell_type": "code",
   "execution_count": null,
   "metadata": {},
   "outputs": [],
   "source": [
    "ntrain.loc[(ntrain.Gender.isnull()) & (ntrain.Married=='Yes'), \"Gender\"] = \"Male\"\n",
    "ntrain.loc[(ntrain.Gender.isnull()) & (ntrain.Married=='Yes')]"
   ]
  },
  {
   "cell_type": "code",
   "execution_count": null,
   "metadata": {},
   "outputs": [],
   "source": [
    "ntrain[ntrain.Gender.isnull()]"
   ]
  },
  {
   "cell_type": "markdown",
   "metadata": {},
   "source": [
    "All three applicants who still do not have a gender value are not married and have an education level of graduate (or above). Applicants no. 507 and no. 588 both have no dependents and are not self employed while applicant no. 592 has 3+ dependents, is self employed, and is a high income earner. Now I want to see which gender share similar patterns."
   ]
  },
  {
   "cell_type": "code",
   "execution_count": null,
   "metadata": {},
   "outputs": [],
   "source": [
    "# Plotting cases for applicants who have 3+ dependents, are above-average income earners, and are self employed.\n",
    "\n",
    "sns.set(rc={'figure.figsize': (18,7)})\n",
    "\n",
    "subplot(1,3,1)\n",
    "plt.title('3+ Dependents')\n",
    "sns.countplot(data=ntrain[ntrain.Dependents=='3+'], x='Gender')\n",
    "\n",
    "subplot(1,3,2)\n",
    "plt.title('Above-average income earners')\n",
    "sns.swarmplot(data=ntrain[ntrain.ApplicantIncome>ntrain.ApplicantIncome.mean()], x='Gender', y='ApplicantIncome')\n",
    "\n",
    "subplot(1,3,3)\n",
    "plt.title('Self employed applicants')\n",
    "sns.countplot(data=ntrain, x='Self_Employed', hue='Gender')\n",
    "\n",
    "plt.show()"
   ]
  },
  {
   "cell_type": "markdown",
   "metadata": {},
   "source": [
    "So applicant no. 592 is, by probability, a male."
   ]
  },
  {
   "cell_type": "code",
   "execution_count": null,
   "metadata": {},
   "outputs": [],
   "source": [
    "ntrain.loc[592,'Gender'] = 'Male'\n",
    "ntrain.iloc[592, :]"
   ]
  },
  {
   "cell_type": "code",
   "execution_count": null,
   "metadata": {},
   "outputs": [],
   "source": [
    "# Plotting cases for applicants with no dependents and applied for a loan amount of about $90~100 grand\n",
    "sns.set(rc={'figure.figsize': (14,6)})\n",
    "\n",
    "subplot(1,2,1)\n",
    "plt.title('No dependents')\n",
    "sns.countplot(data=ntrain[ntrain.Dependents=='0'], x='Gender')\n",
    "\n",
    "subplot(1,2,2)\n",
    "plt.title('Loan amount between $90~100 grand')\n",
    "sns.swarmplot(data=ntrain[(ntrain.LoanAmount<100)&(ntrain.LoanAmount>90)], x='Gender', y='LoanAmount')\n",
    "\n",
    "plt.show()"
   ]
  },
  {
   "cell_type": "markdown",
   "metadata": {},
   "source": [
    "So... applicants no. 507 and no. 588 would also be male"
   ]
  },
  {
   "cell_type": "code",
   "execution_count": null,
   "metadata": {},
   "outputs": [],
   "source": [
    "ntrain.loc[[507,588],'Gender'] = 'Male'\n",
    "ntrain.iloc[[507,588], :]"
   ]
  },
  {
   "cell_type": "code",
   "execution_count": null,
   "metadata": {},
   "outputs": [],
   "source": [
    "ntrain[ntrain.Gender.isnull()]"
   ]
  },
  {
   "cell_type": "markdown",
   "metadata": {},
   "source": [
    "### Marriage Status"
   ]
  },
  {
   "cell_type": "code",
   "execution_count": null,
   "metadata": {},
   "outputs": [],
   "source": [
    "ntrain[ntrain.Married.isnull()]"
   ]
  },
  {
   "cell_type": "markdown",
   "metadata": {},
   "source": [
    "Observations:\n",
    "1. Applicants no.104 and no.228 are both male, have below-average income, and applied for approximately the same amount.\n",
    "2. Applicant no.435 is female and has a well over average income\n",
    "\n",
    "So I will see the marriage status of applicants with similar gender & income patterns"
   ]
  },
  {
   "cell_type": "code",
   "execution_count": null,
   "metadata": {},
   "outputs": [],
   "source": [
    "# Marriage status of male applicants with below-average income and who applied for a loan amount between $150~170 grand\n",
    "# I'm supposing the loan amount and marriage status would have some sort of correlation...\n",
    "filtered = ntrain[(ntrain.Gender=='Male')&(ntrain.ApplicantIncome<ntrain.ApplicantIncome.mean())&(ntrain.LoanAmount>150)&(ntrain.LoanAmount<170)]\n",
    "sns.countplot(data=filtered, x='Married')"
   ]
  },
  {
   "cell_type": "markdown",
   "metadata": {},
   "source": [
    "It seems fairly just to give applicants no.104 and no.228 a 'yes' value to their marriage status"
   ]
  },
  {
   "cell_type": "code",
   "execution_count": null,
   "metadata": {},
   "outputs": [],
   "source": [
    "ntrain.loc[[104,228],'Married'] = 'Yes'\n",
    "ntrain.iloc[[104,228], :]"
   ]
  },
  {
   "cell_type": "code",
   "execution_count": null,
   "metadata": {},
   "outputs": [],
   "source": [
    "# Marriage status of high-income female applicants\n",
    "sns.swarmplot(data=ntrain[(ntrain.Gender=='Female')&(ntrain.ApplicantIncome>8000)], x='Married', y='ApplicantIncome')"
   ]
  },
  {
   "cell_type": "code",
   "execution_count": null,
   "metadata": {},
   "outputs": [],
   "source": [
    "ntrain.loc[435, 'Married'] = 'No'\n",
    "ntrain.iloc[435]"
   ]
  },
  {
   "cell_type": "code",
   "execution_count": null,
   "metadata": {},
   "outputs": [],
   "source": [
    "ntrain[ntrain.Married.isnull()]"
   ]
  },
  {
   "cell_type": "markdown",
   "metadata": {},
   "source": [
    "### Dependents"
   ]
  },
  {
   "cell_type": "code",
   "execution_count": null,
   "metadata": {},
   "outputs": [],
   "source": [
    "ntrain[ntrain.Dependents.isnull()]"
   ]
  },
  {
   "cell_type": "code",
   "execution_count": null,
   "metadata": {},
   "outputs": [],
   "source": [
    "sns.countplot(data=ntrain, x='Dependents', hue='Married')"
   ]
  },
  {
   "cell_type": "markdown",
   "metadata": {},
   "source": [
    "Some immediate findings can be that regardless of marriage status or education level of the applicant, the chances of them having any dependents is relatively small, especially is the applicant is not married. To me this seems like a safe indicator that it would be okay to replace all null values of 'Dependents' unmarried applicants to 0."
   ]
  },
  {
   "cell_type": "code",
   "execution_count": null,
   "metadata": {},
   "outputs": [],
   "source": [
    "ntrain.loc[ntrain.Dependents.isnull() & (ntrain.Married=='No'), 'Dependents'] = '0'\n",
    "ntrain[ntrain.Dependents.isnull()]"
   ]
  },
  {
   "cell_type": "markdown",
   "metadata": {},
   "source": [
    "Now, if the applicant is married, is there a definite pattern between the education level, income, loan amount of applicants and the number of dependents they have?"
   ]
  },
  {
   "cell_type": "code",
   "execution_count": null,
   "metadata": {},
   "outputs": [],
   "source": [
    "sns.lmplot(data=ntrain[ntrain.Married=='Yes'], x='ApplicantIncome', y='LoanAmount', hue='Dependents')"
   ]
  },
  {
   "cell_type": "markdown",
   "metadata": {},
   "source": [
    "Since this graph is very hard to understand, I will divide the income groups so the definitions can be made clearer."
   ]
  },
  {
   "cell_type": "code",
   "execution_count": null,
   "metadata": {},
   "outputs": [],
   "source": [
    "print(f\"Average income: {ntrain.ApplicantIncome.mean()}\")\n",
    "sns.boxplot(data=ntrain, x='ApplicantIncome')"
   ]
  },
  {
   "cell_type": "code",
   "execution_count": null,
   "metadata": {},
   "outputs": [],
   "source": [
    "high_income = ntrain[ntrain.ApplicantIncome>10000]\n",
    "above_average_income = ntrain[(ntrain.ApplicantIncome>ntrain.ApplicantIncome.mean())&(ntrain.ApplicantIncome<10000)]\n",
    "below_average_income = ntrain[ntrain.ApplicantIncome<ntrain.ApplicantIncome.mean()]\n",
    "\n",
    "sns.set(rc={'figure.figsize':(8,20)})\n",
    "\n",
    "subplot(3,1,1)\n",
    "plt.title('High Income Earners')\n",
    "f1 = sns.boxplot(data=high_income, x='ApplicantIncome', color='red')\n",
    "\n",
    "subplot(3,1,2)\n",
    "plt.title('Above-average Income Earners')\n",
    "f2 = sns.boxplot(data=above_average_income, x='ApplicantIncome', color='orange')\n",
    "\n",
    "subplot(3,1,3)\n",
    "plt.title('Below-average Income Earners')\n",
    "f3 = sns.boxplot(data=below_average_income, x='ApplicantIncome', color='yellow')\n",
    "\n",
    "plt.show()"
   ]
  },
  {
   "cell_type": "code",
   "execution_count": null,
   "metadata": {},
   "outputs": [],
   "source": [
    "sns.set(rc={'figure.figsize':(10,20)})\n",
    "\n",
    "subplot(3,1,1)\n",
    "plt.title('High income & Married')\n",
    "f1 = sns.swarmplot(data=high_income[high_income.Married=='Yes'], x='Dependents', y='ApplicantIncome', palette='Reds', order=['0','1','2','3+'])\n",
    "\n",
    "subplot(3,1,2)\n",
    "plt.title('Above average income & Married')\n",
    "f2 = sns.swarmplot(data=above_average_income[above_average_income.Married=='Yes'], x='Dependents', y='ApplicantIncome', palette='Blues', order=['0','1','2','3+'])\n",
    "\n",
    "subplot(3,1,3)\n",
    "plt.title('Below average income & Married')\n",
    "f3 = sns.swarmplot(data=below_average_income[below_average_income.Married=='Yes'], x='Dependents', y='ApplicantIncome', palette='Greens', order=['0','1','2','3+'])\n",
    "\n",
    "plt.show()"
   ]
  },
  {
   "cell_type": "code",
   "execution_count": null,
   "metadata": {},
   "outputs": [],
   "source": [
    "ntrain[ntrain.Dependents.isnull()].sort_values(by='ApplicantIncome', ascending=False)"
   ]
  },
  {
   "cell_type": "code",
   "execution_count": null,
   "metadata": {},
   "outputs": [],
   "source": [
    "ntrain.loc[ntrain.Dependents.isnull(), 'Dependents'] = '0'\n",
    "ntrain[ntrain.Dependents.isnull()]"
   ]
  },
  {
   "cell_type": "markdown",
   "metadata": {},
   "source": [
    "### Employment type"
   ]
  },
  {
   "cell_type": "code",
   "execution_count": null,
   "metadata": {},
   "outputs": [],
   "source": [
    "ntrain[ntrain.Self_Employed.isnull()].head()"
   ]
  },
  {
   "cell_type": "code",
   "execution_count": null,
   "metadata": {},
   "outputs": [],
   "source": [
    "ntrain.loc[ntrain.Self_Employed.isnull(), 'Self_Employed'] = 'No'\n",
    "ntrain[ntrain.Self_Employed.isnull()]"
   ]
  },
  {
   "cell_type": "markdown",
   "metadata": {},
   "source": [
    "### Loan Amount"
   ]
  },
  {
   "cell_type": "code",
   "execution_count": null,
   "metadata": {},
   "outputs": [],
   "source": [
    "ntrain[ntrain.LoanAmount.isnull()].sort_values(by='ApplicantIncome', ascending=False)"
   ]
  },
  {
   "cell_type": "code",
   "execution_count": null,
   "metadata": {},
   "outputs": [],
   "source": [
    "sns.set(rc={'figure.figsize':(18,8)})\n",
    "\n",
    "subplot(1,3,1)\n",
    "plt.title(\"High Income Earners, \\nplotted by Income * Loan Amount\")\n",
    "f1 = sns.scatterplot(data=below_average_income, x='ApplicantIncome', y='LoanAmount', hue='Education')\n",
    "\n",
    "subplot(1,3,2)\n",
    "plt.title(\"Above-average Income Earners, \\nplotted by Income * Loan Amount\")\n",
    "f2 = sns.scatterplot(data=above_average_income, x='ApplicantIncome', y='LoanAmount', hue='Education')\n",
    "\n",
    "subplot(1,3,3)\n",
    "plt.title(\"Below-average Income Earners, \\nplotted by Income * Loan Amount\")\n",
    "f3 = sns.scatterplot(data=high_income, x='ApplicantIncome', y='LoanAmount', hue='Education')\n",
    "\n",
    "plt.show()"
   ]
  },
  {
   "cell_type": "code",
   "execution_count": null,
   "metadata": {},
   "outputs": [],
   "source": [
    "sns.set(rc={'figure.figsize':(18,8)})\n",
    "\n",
    "subplot(3,1,1)\n",
    "f1 = sns.boxplot(data=below_average_income, x='LoanAmount')\n",
    "print(f\"Below average Loan Amount mean value: {below_average_income.LoanAmount.mean():.2f}\")\n",
    "\n",
    "subplot(3,1,2)\n",
    "f2 = sns.boxplot(data=above_average_income, x='LoanAmount')\n",
    "print(f\"Above average Loan Amount mean value: {above_average_income.LoanAmount.mean():.2f}\")\n",
    "\n",
    "subplot(3,1,3)\n",
    "f3 = sns.boxplot(data=high_income, x='LoanAmount')\n",
    "print(f\"High income Loan Amount mean value: {high_income.LoanAmount.mean():.2f}\")\n",
    "\n",
    "plt.show()"
   ]
  },
  {
   "cell_type": "code",
   "execution_count": null,
   "metadata": {},
   "outputs": [],
   "source": [
    "ntrain.loc[(ntrain.LoanAmount.isnull())&(ntrain.ApplicantIncome>10000),\"LoanAmount\"] = round(high_income.LoanAmount.mean())\n",
    "ntrain.loc[(ntrain.LoanAmount.isnull())&(ntrain.ApplicantIncome>ntrain.ApplicantIncome.mean()),\"LoanAmount\"] = round(above_average_income.LoanAmount.mean())\n",
    "ntrain.loc[ntrain.LoanAmount.isnull(),\"LoanAmount\"] = round(below_average_income.LoanAmount.mean())\n",
    "\n",
    "ntrain[ntrain.LoanAmount.isnull()]"
   ]
  },
  {
   "cell_type": "markdown",
   "metadata": {},
   "source": [
    "### Loan Amount Term"
   ]
  },
  {
   "cell_type": "code",
   "execution_count": null,
   "metadata": {},
   "outputs": [],
   "source": [
    "ntrain[ntrain.Loan_Amount_Term.isnull()].sort_values(by='LoanAmount', ascending=False)"
   ]
  },
  {
   "cell_type": "code",
   "execution_count": null,
   "metadata": {},
   "outputs": [],
   "source": [
    "plt.figure(figsize=(10,10))\n",
    "sns.swarmplot(data=ntrain[(ntrain.LoanAmount>50)&(ntrain.LoanAmount<200)], x='Loan_Amount_Term', y='LoanAmount')"
   ]
  },
  {
   "cell_type": "code",
   "execution_count": null,
   "metadata": {
    "scrolled": false
   },
   "outputs": [],
   "source": [
    "ntrain.loc[ntrain.Loan_Amount_Term.isnull(), 'Loan_Amount_Term'] = '360.0'\n",
    "ntrain[ntrain.Loan_Amount_Term.isnull()]"
   ]
  },
  {
   "cell_type": "markdown",
   "metadata": {},
   "source": [
    "### Credit History"
   ]
  },
  {
   "cell_type": "code",
   "execution_count": null,
   "metadata": {},
   "outputs": [],
   "source": [
    "ntrain[ntrain.Credit_History.isnull()].head()"
   ]
  },
  {
   "cell_type": "code",
   "execution_count": null,
   "metadata": {},
   "outputs": [],
   "source": [
    "sns.countplot(data=ntrain, x='Credit_History', hue='Education')"
   ]
  },
  {
   "cell_type": "code",
   "execution_count": null,
   "metadata": {},
   "outputs": [],
   "source": [
    "pd.pivot_table(ntrain, index=['Education','Credit_History'], values='ApplicantIncome')"
   ]
  },
  {
   "cell_type": "code",
   "execution_count": null,
   "metadata": {},
   "outputs": [],
   "source": [
    "sns.set(rc={'figure.figsize':(20,8)})\n",
    "\n",
    "subplot(1,3,1)\n",
    "f1 = sns.scatterplot(data=below_average_income, x='ApplicantIncome', y='LoanAmount', hue='Credit_History')\n",
    "\n",
    "subplot(1,3,2)\n",
    "f2 = sns.scatterplot(data=above_average_income, x='ApplicantIncome', y='LoanAmount', hue='Credit_History')\n",
    "\n",
    "subplot(1,3,3)\n",
    "f3 = sns.scatterplot(data=high_income, x='ApplicantIncome', y='LoanAmount', hue='Credit_History')\n",
    "\n",
    "plt.show()"
   ]
  },
  {
   "cell_type": "code",
   "execution_count": null,
   "metadata": {},
   "outputs": [],
   "source": [
    "sns.countplot(data=ntrain[ntrain.Credit_History==0], x='Dependents',hue='Married', order=['0','1','2','3+'])"
   ]
  },
  {
   "cell_type": "code",
   "execution_count": null,
   "metadata": {},
   "outputs": [],
   "source": [
    "sns.swarmplot(data=ntrain[ntrain.Credit_History==0], y='ApplicantIncome',x='Married')"
   ]
  },
  {
   "cell_type": "markdown",
   "metadata": {},
   "source": [
    "### Education"
   ]
  },
  {
   "cell_type": "code",
   "execution_count": null,
   "metadata": {},
   "outputs": [],
   "source": [
    "pd.pivot_table(ntrain, index=['Education', 'Married', 'Gender'], values='ApplicantIncome')"
   ]
  },
  {
   "cell_type": "markdown",
   "metadata": {},
   "source": [
    "**Highest Applicant Income:**\n",
    "1. Graduate married male\n",
    "2. Graduate unmarried male\n",
    "3. Not Graduate unmarried female\n",
    "4. Graduate married female\n",
    "\n",
    "**Lowest Applicant Income:**\n",
    "1. Not Graduate married female\n",
    "2. Not Graduate married male\n",
    "3. Not Graduate unmarried male\n",
    "4. Graduate unmarried female"
   ]
  },
  {
   "cell_type": "code",
   "execution_count": null,
   "metadata": {},
   "outputs": [],
   "source": [
    "pd.pivot_table(ntrain, index=['Education'], values='ApplicantIncome')"
   ]
  },
  {
   "cell_type": "markdown",
   "metadata": {},
   "source": [
    "### Marriage status and Income, by gender"
   ]
  },
  {
   "cell_type": "code",
   "execution_count": null,
   "metadata": {},
   "outputs": [],
   "source": [
    "ntrain.ApplicantIncome.describe()"
   ]
  },
  {
   "cell_type": "code",
   "execution_count": null,
   "metadata": {},
   "outputs": [],
   "source": [
    "sns.set(rc={'figure.figsize':(20,14)})\n",
    "\n",
    "subplot(4,1,1)\n",
    "f1 = sns.boxplot(data=ntrain, x='ApplicantIncome')\n",
    "\n",
    "subplot(4,1,2)\n",
    "f2 = sns.boxplot(data=ntrain[ntrain.ApplicantIncome<10000], x='ApplicantIncome')\n",
    "\n",
    "subplot(4,1,3)\n",
    "f3 = sns.boxplot(data=ntrain[ntrain.ApplicantIncome<8000], x='ApplicantIncome')\n",
    "\n",
    "subplot(4,1,4)\n",
    "f4 = sns.boxplot(data=ntrain[ntrain.ApplicantIncome<4000], x='ApplicantIncome')\n",
    "\n",
    "plt.show()"
   ]
  },
  {
   "cell_type": "code",
   "execution_count": null,
   "metadata": {},
   "outputs": [],
   "source": [
    "super_rich = ntrain[ntrain.ApplicantIncome>30000]\n",
    "rich = ntrain[(ntrain.ApplicantIncome>10000)&(ntrain.ApplicantIncome<30000)]\n",
    "middle_class = ntrain[(ntrain.ApplicantIncome>4000)&(ntrain.ApplicantIncome<10000)]\n",
    "poor = ntrain[ntrain.ApplicantIncome<30000]"
   ]
  },
  {
   "cell_type": "code",
   "execution_count": null,
   "metadata": {},
   "outputs": [],
   "source": [
    "females = ntrain[ntrain.Gender=='Female']\n",
    "males = ntrain[ntrain.Gender=='Male']\n",
    "\n",
    "print(\"Female applicants' Income, by their marriage status\")\n",
    "print(f\"The average income for all female applicants is: {ntrain[ntrain.Gender=='Female'].ApplicantIncome.mean():.2f}\")\n",
    "income_by_marriage_female = pd.pivot_table(females, index='Married', values='ApplicantIncome')\n",
    "income_by_marriage_female"
   ]
  },
  {
   "cell_type": "code",
   "execution_count": null,
   "metadata": {},
   "outputs": [],
   "source": [
    "print(\"Male applicants' Income, by their marriage status\")\n",
    "print(f\"The average income for all male applicants is: {ntrain[ntrain.Gender=='Male'].ApplicantIncome.mean():.2f}\")\n",
    "income_by_marriage_male = pd.pivot_table(males, index='Married', values='ApplicantIncome')\n",
    "income_by_marriage_male"
   ]
  },
  {
   "cell_type": "code",
   "execution_count": null,
   "metadata": {},
   "outputs": [],
   "source": [
    "print(f\"Married female applicants earn {(income_by_marriage_female.iloc[1][0]/income_by_marriage_female.iloc[0][0])*100:.2f}% more than their unmarried counterparts\")\n",
    "print(f\"Married male applicants earn {(income_by_marriage_male.iloc[1][0]/income_by_marriage_male.iloc[0][0])*100:.2f}% more than their unmarried counterparts\")"
   ]
  },
  {
   "cell_type": "code",
   "execution_count": null,
   "metadata": {},
   "outputs": [],
   "source": [
    "pd.pivot_table(females, index=['Married','Education'], values=['ApplicantIncome', 'CoapplicantIncome'])"
   ]
  },
  {
   "cell_type": "markdown",
   "metadata": {},
   "source": [
    "1. The highest earning group of female applicants is married females with an education level of graduate (or higher).\n",
    "2. Unmarried female applicants with a lower education status has the lowest income but the highest co-applicant income.\n",
    "3. Surprisingly, if not married, non-graduate applicants earn more than graduate applicants."
   ]
  },
  {
   "cell_type": "code",
   "execution_count": null,
   "metadata": {},
   "outputs": [],
   "source": [
    "pd.pivot_table(males, index=['Married','Education'], values=['ApplicantIncome', 'CoapplicantIncome'])"
   ]
  },
  {
   "cell_type": "code",
   "execution_count": null,
   "metadata": {},
   "outputs": [],
   "source": [
    "sns.countplot(data=females, x='Married', hue='Education')"
   ]
  },
  {
   "cell_type": "code",
   "execution_count": null,
   "metadata": {},
   "outputs": [],
   "source": [
    "# How does the level of education affect an applicant's Income bracket \n",
    "# (as well as the income bracket of their coapplicant)\n",
    "print(pd.pivot_table(ntrain, index='Education', values='ApplicantIncome'))\n",
    "print('\\n')\n",
    "print(pd.pivot_table(ntrain, index='Education', values='CoapplicantIncome'))"
   ]
  },
  {
   "cell_type": "code",
   "execution_count": null,
   "metadata": {},
   "outputs": [],
   "source": [
    "# The 'Dependents' column\n",
    "sns.set(rc={'figure.figsize': (14,20)})\n",
    "\n",
    "subplot(3,1,1)\n",
    "plt.title(\"Number of dependents & Marriage status\")\n",
    "f1 = sns.countplot(data=ntrain, x='Dependents', hue='Married')\n",
    "\n",
    "subplot(3,1,2)\n",
    "plt.title(\"Number of dependents & Education level\")\n",
    "f2 = sns.countplot(data=ntrain, x='Dependents', hue='Education')\n",
    "\n",
    "subplot(3,1,3)\n",
    "plt.title(\"Number of dependents & Applicant Income\")\n",
    "f3 = sns.swarmplot(data=ntrain, x='Dependents', y='ApplicantIncome')\n",
    "\n",
    "plt.show()"
   ]
  },
  {
   "cell_type": "code",
   "execution_count": null,
   "metadata": {},
   "outputs": [],
   "source": [
    "# The 'Self_Employed' column"
   ]
  },
  {
   "cell_type": "code",
   "execution_count": null,
   "metadata": {},
   "outputs": [],
   "source": [
    "# The 'LoanAmount' and 'Loan_Amount_Term' columns"
   ]
  },
  {
   "cell_type": "code",
   "execution_count": null,
   "metadata": {},
   "outputs": [],
   "source": [
    "# The 'Credit_History' column"
   ]
  },
  {
   "cell_type": "markdown",
   "metadata": {},
   "source": [
    "# Finding correlation between columns"
   ]
  },
  {
   "cell_type": "code",
   "execution_count": 2,
   "metadata": {},
   "outputs": [
    {
     "data": {
      "text/html": [
       "<div>\n",
       "<style scoped>\n",
       "    .dataframe tbody tr th:only-of-type {\n",
       "        vertical-align: middle;\n",
       "    }\n",
       "\n",
       "    .dataframe tbody tr th {\n",
       "        vertical-align: top;\n",
       "    }\n",
       "\n",
       "    .dataframe thead th {\n",
       "        text-align: right;\n",
       "    }\n",
       "</style>\n",
       "<table border=\"1\" class=\"dataframe\">\n",
       "  <thead>\n",
       "    <tr style=\"text-align: right;\">\n",
       "      <th></th>\n",
       "      <th>ApplicantIncome</th>\n",
       "      <th>CoapplicantIncome</th>\n",
       "      <th>LoanAmount</th>\n",
       "      <th>Loan_Amount_Term</th>\n",
       "      <th>Credit_History</th>\n",
       "    </tr>\n",
       "  </thead>\n",
       "  <tbody>\n",
       "    <tr>\n",
       "      <th>ApplicantIncome</th>\n",
       "      <td>1.000000</td>\n",
       "      <td>-0.116605</td>\n",
       "      <td>0.570909</td>\n",
       "      <td>-0.045306</td>\n",
       "      <td>-0.014715</td>\n",
       "    </tr>\n",
       "    <tr>\n",
       "      <th>CoapplicantIncome</th>\n",
       "      <td>-0.116605</td>\n",
       "      <td>1.000000</td>\n",
       "      <td>0.188619</td>\n",
       "      <td>-0.059878</td>\n",
       "      <td>-0.002056</td>\n",
       "    </tr>\n",
       "    <tr>\n",
       "      <th>LoanAmount</th>\n",
       "      <td>0.570909</td>\n",
       "      <td>0.188619</td>\n",
       "      <td>1.000000</td>\n",
       "      <td>0.039447</td>\n",
       "      <td>-0.008433</td>\n",
       "    </tr>\n",
       "    <tr>\n",
       "      <th>Loan_Amount_Term</th>\n",
       "      <td>-0.045306</td>\n",
       "      <td>-0.059878</td>\n",
       "      <td>0.039447</td>\n",
       "      <td>1.000000</td>\n",
       "      <td>0.001470</td>\n",
       "    </tr>\n",
       "    <tr>\n",
       "      <th>Credit_History</th>\n",
       "      <td>-0.014715</td>\n",
       "      <td>-0.002056</td>\n",
       "      <td>-0.008433</td>\n",
       "      <td>0.001470</td>\n",
       "      <td>1.000000</td>\n",
       "    </tr>\n",
       "  </tbody>\n",
       "</table>\n",
       "</div>"
      ],
      "text/plain": [
       "                   ApplicantIncome  CoapplicantIncome  LoanAmount  \\\n",
       "ApplicantIncome           1.000000          -0.116605    0.570909   \n",
       "CoapplicantIncome        -0.116605           1.000000    0.188619   \n",
       "LoanAmount                0.570909           0.188619    1.000000   \n",
       "Loan_Amount_Term         -0.045306          -0.059878    0.039447   \n",
       "Credit_History           -0.014715          -0.002056   -0.008433   \n",
       "\n",
       "                   Loan_Amount_Term  Credit_History  \n",
       "ApplicantIncome           -0.045306       -0.014715  \n",
       "CoapplicantIncome         -0.059878       -0.002056  \n",
       "LoanAmount                 0.039447       -0.008433  \n",
       "Loan_Amount_Term           1.000000        0.001470  \n",
       "Credit_History             0.001470        1.000000  "
      ]
     },
     "execution_count": 2,
     "metadata": {},
     "output_type": "execute_result"
    }
   ],
   "source": [
    "corr = train.corr()\n",
    "corr"
   ]
  },
  {
   "cell_type": "code",
   "execution_count": 3,
   "metadata": {},
   "outputs": [
    {
     "data": {
      "text/plain": [
       "<matplotlib.axes._subplots.AxesSubplot at 0x7fa20459bfa0>"
      ]
     },
     "execution_count": 3,
     "metadata": {},
     "output_type": "execute_result"
    },
    {
     "data": {
      "image/png": "[encoded data removed]",
      "text/plain": [
       "<Figure size 432x288 with 2 Axes>"
      ]
     },
     "metadata": {
      "needs_background": "light"
     },
     "output_type": "display_data"
    }
   ],
   "source": [
    "sns.heatmap(corr, annot=True)"
   ]
  },
  {
   "cell_type": "code",
   "execution_count": null,
   "metadata": {},
   "outputs": [],
   "source": []
  }
 ],
 "metadata": {
  "kernelspec": {
   "display_name": "Python 3",
   "language": "python",
   "name": "python3"
  },
  "language_info": {
   "codemirror_mode": {
    "name": "ipython",
    "version": 3
   },
   "file_extension": ".py",
   "mimetype": "text/x-python",
   "name": "python",
   "nbconvert_exporter": "python",
   "pygments_lexer": "ipython3",
   "version": "3.8.1"
  }
 },
 "nbformat": 4,
 "nbformat_minor": 4
}
