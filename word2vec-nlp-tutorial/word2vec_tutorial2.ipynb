{
 "cells": [
  {
   "cell_type": "markdown",
   "metadata": {},
   "source": [
    "# Bag of Words Meets Bags of Popcorn, Part 2\n",
    "Last updated: 2020.07.26\n",
    "\n",
    "The tutorial code for Part 2 is [here](https://github.com/wendykan/DeepLearningMovies/blob/master/Word2Vec_AverageVectors.py)\n",
    "\n",
    "The [Word2Vec](https://code.google.com/p/word2vec/) tool takes a text corpus as input and produces the word vectors as output. It first constructs a vocabulary from the training text data and then learns vector representation of words. The resulting word vector file can be used as features in many natural language processing and machine learning applications.\n",
    "\n",
    "Word2Vec does not need labels in order to create meaningful representations. This is useful, since most data in the real world is unlabeled. If the network is given enough training data (tens of billions of words), it produces word vectors with intriguing characteristics. Words with similar meanings appear in clusters, and clusters are spaced such that some word relationships, such as analogies, can be reproduced using vector math. The famous example is that, with highly trained word vectors, \"king - man + woman = queen.\""
   ]
  },
  {
   "cell_type": "code",
   "execution_count": 1,
   "metadata": {},
   "outputs": [
    {
     "name": "stdout",
     "output_type": "stream",
     "text": [
      "Read 25000 labeled train reviews, 25000 labeled test reviews, and 50000 unlabeled reviews\n"
     ]
    }
   ],
   "source": [
    "import pandas as pd\n",
    "\n",
    "# Read data from files\n",
    "train = pd.read_csv('./data/labeledTrainData.tsv', header = 0, delimiter='\\t', quoting=3)\n",
    "test = pd.read_csv('./data/testData.tsv', header = 0, delimiter='\\t', quoting=3)\n",
    "unlabeled_train = pd.read_csv('./data/unlabeledTrainData.tsv', header = 0, delimiter='\\t', quoting=3)\n",
    "\n",
    "# Verify the number of reviews that were read (100,000 in total)\n",
    "print(f\"Read {train['review'].size} labeled train reviews, {test['review'].size} labeled test reviews, and {unlabeled_train['review'].size} unlabeled reviews\")"
   ]
  },
  {
   "cell_type": "markdown",
   "metadata": {},
   "source": [
    "The functions we write to clean the data are also similar to Part 1, although now there are a couple of differences. First, to train Word2Vec it is better not to remove stop words because the algorithm relies on the broader context of the sentence in order to produce high-quality word vectors. For this reason, we will make stop word removal optional in the functions below. It also might be better not to remove numbers, but we leave that as an exercise for the reader."
   ]
  },
  {
   "cell_type": "markdown",
   "metadata": {},
   "source": [
    "## Preparing to train a model"
   ]
  },
  {
   "cell_type": "code",
   "execution_count": 2,
   "metadata": {},
   "outputs": [],
   "source": [
    "# Import various modules for string cleaning\n",
    "from bs4 import BeautifulSoup\n",
    "import re\n",
    "from nltk.corpus import stopwords\n",
    "\n",
    "def review_to_wordlist(review, remove_stopwords=False):\n",
    "    # 1. Remove html\n",
    "    text_only = BeautifulSoup(review).get_text()\n",
    "    \n",
    "    # 2. Remove non-letters\n",
    "    letters_only = re.sub(\"[^a-zA-Z]\", \" \", text_only)\n",
    "    \n",
    "    # 3. Convert words to lower case and split them\n",
    "    words = letters_only.lower().split()\n",
    "    \n",
    "    # 4. Optionally remove stopwords (False by default)\n",
    "    if remove_stopwords:\n",
    "        stops = set(stopwords.words('english'))\n",
    "        words = [w for w in words if w not in stops]\n",
    "    \n",
    "    # 5. return list of words\n",
    "    return words"
   ]
  },
  {
   "cell_type": "markdown",
   "metadata": {},
   "source": [
    "Next, we want a specific input format. Word2Vec expects single sentences, each one as a list of words. **In other words, the input format is a list of lists.**\n",
    "\n",
    "It is not at all straightforward how to split a paragraph into sentences. There are all kinds of gotchas in natural language. English sentences can end with \"?\", \"!\", \"\"\", or \".\", among other things, and spacing and capitalization are not reliable guides either. For this reason, we'll use *NLTK's punkt tokenizer* for sentence splitting. \n",
    "\n",
    "In order to use this, you will need to install NLTK and use ```nltk.download()``` to download the relevant training file for punkt."
   ]
  },
  {
   "cell_type": "code",
   "execution_count": 3,
   "metadata": {},
   "outputs": [],
   "source": [
    "# Download the punkt tokenizer for sentence splitting\n",
    "import nltk.data\n",
    "# nltk.download('punkt')\n",
    "\n",
    "# Load the punkt tokenizer\n",
    "tokenizer = nltk.data.load('tokenizers/punkt/english.pickle')\n",
    "\n",
    "# Define a function to split a review into parsed sentences. Returns \n",
    "# a list of sentences, where each sentence is a list of words\n",
    "def review_to_sentences(review, tokenizer, remove_stopwords = False):\n",
    "    # 1. Use the NLTK tokenizer to split the paragraph into sentences\n",
    "    raw_sentences = tokenizer.tokenize(review.strip())\n",
    "    \n",
    "    #2. Loop over each sentence\n",
    "    sentences = []\n",
    "    for raw_sentence in raw_sentences:\n",
    "        # If a sentence is empty, skip it.\n",
    "        # Otherwise, call review_to_wordlist to get a list of words\n",
    "        if len(raw_sentence) > 0:\n",
    "            sentences.append(review_to_wordlist(raw_sentence, remove_stopwords))\n",
    "            \n",
    "    # Return the list of sentences (each sentence is a list of words)\n",
    "    return sentences"
   ]
  },
  {
   "cell_type": "code",
   "execution_count": 4,
   "metadata": {},
   "outputs": [
    {
     "name": "stderr",
     "output_type": "stream",
     "text": [
      "/Library/Frameworks/Python.framework/Versions/3.8/lib/python3.8/site-packages/bs4/__init__.py:309: UserWarning: \".\" looks like a filename, not markup. You should probably open this file and pass the filehandle into Beautiful Soup.\n",
      "  warnings.warn(\n",
      "/Library/Frameworks/Python.framework/Versions/3.8/lib/python3.8/site-packages/bs4/__init__.py:393: UserWarning: \"http://www.happierabroad.com\"\" looks like a URL. Beautiful Soup is not an HTTP client. You should probably use an HTTP client like requests to get the document behind the URL, and feed that document to Beautiful Soup.\n",
      "  warnings.warn(\n",
      "/Library/Frameworks/Python.framework/Versions/3.8/lib/python3.8/site-packages/bs4/__init__.py:393: UserWarning: \"http://www.archive.org/details/LovefromaStranger\"\" looks like a URL. Beautiful Soup is not an HTTP client. You should probably use an HTTP client like requests to get the document behind the URL, and feed that document to Beautiful Soup.\n",
      "  warnings.warn(\n",
      "/Library/Frameworks/Python.framework/Versions/3.8/lib/python3.8/site-packages/bs4/__init__.py:393: UserWarning: \"http://www.loosechangeguide.com/LooseChangeGuide.html\"\" looks like a URL. Beautiful Soup is not an HTTP client. You should probably use an HTTP client like requests to get the document behind the URL, and feed that document to Beautiful Soup.\n",
      "  warnings.warn(\n",
      "/Library/Frameworks/Python.framework/Versions/3.8/lib/python3.8/site-packages/bs4/__init__.py:393: UserWarning: \"http://www.msnbc.msn.com/id/4972055/site/newsweek/\"\" looks like a URL. Beautiful Soup is not an HTTP client. You should probably use an HTTP client like requests to get the document behind the URL, and feed that document to Beautiful Soup.\n",
      "  warnings.warn(\n",
      "/Library/Frameworks/Python.framework/Versions/3.8/lib/python3.8/site-packages/bs4/__init__.py:309: UserWarning: \"..\" looks like a filename, not markup. You should probably open this file and pass the filehandle into Beautiful Soup.\n",
      "  warnings.warn(\n",
      "/Library/Frameworks/Python.framework/Versions/3.8/lib/python3.8/site-packages/bs4/__init__.py:393: UserWarning: \"http://www.youtube.com/watch?v=a0KSqelmgN8\"\" looks like a URL. Beautiful Soup is not an HTTP client. You should probably use an HTTP client like requests to get the document behind the URL, and feed that document to Beautiful Soup.\n",
      "  warnings.warn(\n",
      "/Library/Frameworks/Python.framework/Versions/3.8/lib/python3.8/site-packages/bs4/__init__.py:393: UserWarning: \"http://jake-weird.blogspot.com/2007/08/beneath.html\"\" looks like a URL. Beautiful Soup is not an HTTP client. You should probably use an HTTP client like requests to get the document behind the URL, and feed that document to Beautiful Soup.\n",
      "  warnings.warn(\n"
     ]
    }
   ],
   "source": [
    "sentences = []\n",
    "\n",
    "# Parsing sentences from training set\n",
    "for review in train['review']:\n",
    "    sentences += review_to_sentences(review, tokenizer)\n",
    "\n",
    "# Parsing sentences from unlabeled set\n",
    "for review in unlabeled_train['review']:\n",
    "    sentences += review_to_sentences(review, tokenizer)"
   ]
  },
  {
   "cell_type": "code",
   "execution_count": 9,
   "metadata": {},
   "outputs": [
    {
     "name": "stdout",
     "output_type": "stream",
     "text": [
      "795538\n",
      "['with', 'all', 'this', 'stuff', 'going', 'down', 'at', 'the', 'moment', 'with', 'mj', 'i', 've', 'started', 'listening', 'to', 'his', 'music', 'watching', 'the', 'odd', 'documentary', 'here', 'and', 'there', 'watched', 'the', 'wiz', 'and', 'watched', 'moonwalker', 'again']\n",
      "['maybe', 'i', 'just', 'want', 'to', 'get', 'a', 'certain', 'insight', 'into', 'this', 'guy', 'who', 'i', 'thought', 'was', 'really', 'cool', 'in', 'the', 'eighties', 'just', 'to', 'maybe', 'make', 'up', 'my', 'mind', 'whether', 'he', 'is', 'guilty', 'or', 'innocent']\n"
     ]
    }
   ],
   "source": [
    "print(len(sentences))\n",
    "print(sentences[0])\n",
    "print(sentences[1])"
   ]
  },
  {
   "cell_type": "markdown",
   "metadata": {},
   "source": [
    "## Training and saving your model\n",
    "With the list of nicely parsed sentences, we're ready to train the model. There are a number of parameter choices that affect the run time and the quality of the final model that is produced. For details on the algorithms below, see the word2vec API documentation as well as the Google documentation. \n",
    "\n",
    "* **Architecture**: Architecture options are skip-gram (default) or continuous bag of words. We found that skip-gram was very slightly slower but produced better results.\n",
    "* **Training algorithm**: Hierarchical softmax (default) or negative sampling. For us, the default worked well.\n",
    "* **Downsampling of frequent words**: The Google documentation recommends values between .00001 and .001. For us, values closer 0.001 seemed to improve the accuracy of the final model.\n",
    "* **Word vector dimensionality**: More features result in longer runtimes, and often, but not always, result in better models. Reasonable values can be in the tens to hundreds; we used 300.\n",
    "* **Context / window size**: How many words of context should the training algorithm take into account? 10 seems to work well for hierarchical softmax (more is better, up to a point).\n",
    "* **Worker threads**: Number of parallel processes to run. This is computer-specific, but between 4 and 6 should work on most systems.\n",
    "* **Minimum word count**: This helps limit the size of the vocabulary to meaningful words. Any word that does not occur at least this many times across all documents is ignored. Reasonable values could be between 10 and 100. In this case, since each movie occurs 30 times, we set the minimum word count to 40, to avoid attaching too much importance to individual movie titles. This resulted in an overall vocabulary size of around 15,000 words. Higher values also help limit run time.\n",
    "\n",
    "Choosing parameters is not easy, but once we have chosen our parameters, creating a Word2Vec model is straightforward:\n",
    "\n",
    "참고: [Scikit-Learn의 문서 전처리 기능](https://datascienceschool.net/view-notebook/3e7aadbf88ed4f0d87a76f9ddc925d69/)"
   ]
  },
  {
   "cell_type": "code",
   "execution_count": 10,
   "metadata": {},
   "outputs": [
    {
     "name": "stderr",
     "output_type": "stream",
     "text": [
      "2020-07-26 20:46:04,853 : INFO : collecting all words and their counts\n",
      "2020-07-26 20:46:04,853 : INFO : PROGRESS: at sentence #0, processed 0 words, keeping 0 word types\n",
      "2020-07-26 20:46:04,893 : INFO : PROGRESS: at sentence #10000, processed 225803 words, keeping 17776 word types\n",
      "2020-07-26 20:46:04,931 : INFO : PROGRESS: at sentence #20000, processed 451892 words, keeping 24948 word types\n",
      "2020-07-26 20:46:04,968 : INFO : PROGRESS: at sentence #30000, processed 671315 words, keeping 30034 word types\n",
      "2020-07-26 20:46:05,005 : INFO : PROGRESS: at sentence #40000, processed 897815 words, keeping 34348 word types\n",
      "2020-07-26 20:46:05,042 : INFO : PROGRESS: at sentence #50000, processed 1116963 words, keeping 37761 word types\n",
      "2020-07-26 20:46:05,079 : INFO : PROGRESS: at sentence #60000, processed 1338404 words, keeping 40723 word types\n",
      "2020-07-26 20:46:05,122 : INFO : PROGRESS: at sentence #70000, processed 1561580 words, keeping 43333 word types\n",
      "2020-07-26 20:46:05,168 : INFO : PROGRESS: at sentence #80000, processed 1780887 words, keeping 45714 word types\n",
      "2020-07-26 20:46:05,224 : INFO : PROGRESS: at sentence #90000, processed 2004996 words, keeping 48135 word types\n",
      "2020-07-26 20:46:05,282 : INFO : PROGRESS: at sentence #100000, processed 2226966 words, keeping 50207 word types\n",
      "2020-07-26 20:46:05,328 : INFO : PROGRESS: at sentence #110000, processed 2446580 words, keeping 52081 word types\n",
      "2020-07-26 20:46:05,368 : INFO : PROGRESS: at sentence #120000, processed 2668775 words, keeping 54119 word types\n",
      "2020-07-26 20:46:05,406 : INFO : PROGRESS: at sentence #130000, processed 2894303 words, keeping 55847 word types\n",
      "2020-07-26 20:46:05,442 : INFO : PROGRESS: at sentence #140000, processed 3107005 words, keeping 57346 word types\n",
      "2020-07-26 20:46:05,481 : INFO : PROGRESS: at sentence #150000, processed 3332627 words, keeping 59055 word types\n",
      "2020-07-26 20:46:05,519 : INFO : PROGRESS: at sentence #160000, processed 3555315 words, keeping 60617 word types\n",
      "2020-07-26 20:46:05,559 : INFO : PROGRESS: at sentence #170000, processed 3778655 words, keeping 62077 word types\n",
      "2020-07-26 20:46:05,607 : INFO : PROGRESS: at sentence #180000, processed 3999236 words, keeping 63496 word types\n",
      "2020-07-26 20:46:05,651 : INFO : PROGRESS: at sentence #190000, processed 4224449 words, keeping 64794 word types\n",
      "2020-07-26 20:46:05,690 : INFO : PROGRESS: at sentence #200000, processed 4448603 words, keeping 66087 word types\n",
      "2020-07-26 20:46:05,728 : INFO : PROGRESS: at sentence #210000, processed 4669967 words, keeping 67390 word types\n",
      "2020-07-26 20:46:05,766 : INFO : PROGRESS: at sentence #220000, processed 4894968 words, keeping 68697 word types\n",
      "2020-07-26 20:46:05,808 : INFO : PROGRESS: at sentence #230000, processed 5117545 words, keeping 69958 word types\n",
      "2020-07-26 20:46:05,847 : INFO : PROGRESS: at sentence #240000, processed 5345050 words, keeping 71167 word types\n",
      "2020-07-26 20:46:05,884 : INFO : PROGRESS: at sentence #250000, processed 5559165 words, keeping 72351 word types\n",
      "2020-07-26 20:46:05,922 : INFO : PROGRESS: at sentence #260000, processed 5779146 words, keeping 73478 word types\n",
      "2020-07-26 20:46:05,960 : INFO : PROGRESS: at sentence #270000, processed 6000435 words, keeping 74767 word types\n",
      "2020-07-26 20:46:05,998 : INFO : PROGRESS: at sentence #280000, processed 6226314 words, keeping 76369 word types\n",
      "2020-07-26 20:46:06,035 : INFO : PROGRESS: at sentence #290000, processed 6449474 words, keeping 77839 word types\n",
      "2020-07-26 20:46:06,073 : INFO : PROGRESS: at sentence #300000, processed 6674077 words, keeping 79171 word types\n",
      "2020-07-26 20:46:06,111 : INFO : PROGRESS: at sentence #310000, processed 6899391 words, keeping 80480 word types\n",
      "2020-07-26 20:46:06,149 : INFO : PROGRESS: at sentence #320000, processed 7124278 words, keeping 81808 word types\n",
      "2020-07-26 20:46:06,186 : INFO : PROGRESS: at sentence #330000, processed 7346021 words, keeping 83030 word types\n",
      "2020-07-26 20:46:06,225 : INFO : PROGRESS: at sentence #340000, processed 7575533 words, keeping 84280 word types\n",
      "2020-07-26 20:46:06,263 : INFO : PROGRESS: at sentence #350000, processed 7798803 words, keeping 85425 word types\n",
      "2020-07-26 20:46:06,301 : INFO : PROGRESS: at sentence #360000, processed 8019427 words, keeping 86596 word types\n",
      "2020-07-26 20:46:06,343 : INFO : PROGRESS: at sentence #370000, processed 8246619 words, keeping 87708 word types\n",
      "2020-07-26 20:46:06,382 : INFO : PROGRESS: at sentence #380000, processed 8471766 words, keeping 88878 word types\n",
      "2020-07-26 20:46:06,422 : INFO : PROGRESS: at sentence #390000, processed 8701497 words, keeping 89907 word types\n",
      "2020-07-26 20:46:06,460 : INFO : PROGRESS: at sentence #400000, processed 8924446 words, keeping 90916 word types\n",
      "2020-07-26 20:46:06,500 : INFO : PROGRESS: at sentence #410000, processed 9145796 words, keeping 91880 word types\n",
      "2020-07-26 20:46:06,538 : INFO : PROGRESS: at sentence #420000, processed 9366876 words, keeping 92912 word types\n",
      "2020-07-26 20:46:06,577 : INFO : PROGRESS: at sentence #430000, processed 9594413 words, keeping 93932 word types\n",
      "2020-07-26 20:46:06,618 : INFO : PROGRESS: at sentence #440000, processed 9821166 words, keeping 94906 word types\n",
      "2020-07-26 20:46:06,669 : INFO : PROGRESS: at sentence #450000, processed 10044928 words, keeping 96036 word types\n",
      "2020-07-26 20:46:06,717 : INFO : PROGRESS: at sentence #460000, processed 10277688 words, keeping 97088 word types\n",
      "2020-07-26 20:46:06,755 : INFO : PROGRESS: at sentence #470000, processed 10505613 words, keeping 97933 word types\n",
      "2020-07-26 20:46:06,794 : INFO : PROGRESS: at sentence #480000, processed 10725997 words, keeping 98862 word types\n",
      "2020-07-26 20:46:06,834 : INFO : PROGRESS: at sentence #490000, processed 10952741 words, keeping 99871 word types\n",
      "2020-07-26 20:46:06,872 : INFO : PROGRESS: at sentence #500000, processed 11174397 words, keeping 100765 word types\n",
      "2020-07-26 20:46:06,911 : INFO : PROGRESS: at sentence #510000, processed 11399672 words, keeping 101699 word types\n",
      "2020-07-26 20:46:06,950 : INFO : PROGRESS: at sentence #520000, processed 11623020 words, keeping 102598 word types\n",
      "2020-07-26 20:46:06,989 : INFO : PROGRESS: at sentence #530000, processed 11847418 words, keeping 103400 word types\n",
      "2020-07-26 20:46:07,028 : INFO : PROGRESS: at sentence #540000, processed 12072033 words, keeping 104265 word types\n",
      "2020-07-26 20:46:07,066 : INFO : PROGRESS: at sentence #550000, processed 12297571 words, keeping 105133 word types\n",
      "2020-07-26 20:46:07,104 : INFO : PROGRESS: at sentence #560000, processed 12518861 words, keeping 105997 word types\n",
      "2020-07-26 20:46:07,145 : INFO : PROGRESS: at sentence #570000, processed 12747916 words, keeping 106787 word types\n",
      "2020-07-26 20:46:07,189 : INFO : PROGRESS: at sentence #580000, processed 12969412 words, keeping 107665 word types\n",
      "2020-07-26 20:46:07,238 : INFO : PROGRESS: at sentence #590000, processed 13194937 words, keeping 108501 word types\n",
      "2020-07-26 20:46:07,291 : INFO : PROGRESS: at sentence #600000, processed 13417135 words, keeping 109218 word types\n",
      "2020-07-26 20:46:07,339 : INFO : PROGRESS: at sentence #610000, processed 13638158 words, keeping 110092 word types\n",
      "2020-07-26 20:46:07,383 : INFO : PROGRESS: at sentence #620000, processed 13864483 words, keeping 110837 word types\n",
      "2020-07-26 20:46:07,426 : INFO : PROGRESS: at sentence #630000, processed 14088769 words, keeping 111610 word types\n",
      "2020-07-26 20:46:07,470 : INFO : PROGRESS: at sentence #640000, processed 14309552 words, keeping 112416 word types\n",
      "2020-07-26 20:46:07,511 : INFO : PROGRESS: at sentence #650000, processed 14535308 words, keeping 113196 word types\n",
      "2020-07-26 20:46:07,551 : INFO : PROGRESS: at sentence #660000, processed 14758098 words, keeping 113945 word types\n",
      "2020-07-26 20:46:07,591 : INFO : PROGRESS: at sentence #670000, processed 14981482 words, keeping 114643 word types\n",
      "2020-07-26 20:46:07,633 : INFO : PROGRESS: at sentence #680000, processed 15206314 words, keeping 115354 word types\n",
      "2020-07-26 20:46:07,674 : INFO : PROGRESS: at sentence #690000, processed 15428507 words, keeping 116131 word types\n",
      "2020-07-26 20:46:07,717 : INFO : PROGRESS: at sentence #700000, processed 15657213 words, keeping 116943 word types\n",
      "2020-07-26 20:46:07,759 : INFO : PROGRESS: at sentence #710000, processed 15880202 words, keeping 117596 word types\n"
     ]
    },
    {
     "name": "stderr",
     "output_type": "stream",
     "text": [
      "2020-07-26 20:46:07,801 : INFO : PROGRESS: at sentence #720000, processed 16105489 words, keeping 118221 word types\n",
      "2020-07-26 20:46:07,843 : INFO : PROGRESS: at sentence #730000, processed 16331870 words, keeping 118954 word types\n",
      "2020-07-26 20:46:07,883 : INFO : PROGRESS: at sentence #740000, processed 16552903 words, keeping 119668 word types\n",
      "2020-07-26 20:46:07,923 : INFO : PROGRESS: at sentence #750000, processed 16771230 words, keeping 120295 word types\n",
      "2020-07-26 20:46:07,964 : INFO : PROGRESS: at sentence #760000, processed 16990622 words, keeping 120930 word types\n",
      "2020-07-26 20:46:08,006 : INFO : PROGRESS: at sentence #770000, processed 17217759 words, keeping 121703 word types\n",
      "2020-07-26 20:46:08,048 : INFO : PROGRESS: at sentence #780000, processed 17447905 words, keeping 122402 word types\n",
      "2020-07-26 20:46:08,092 : INFO : PROGRESS: at sentence #790000, processed 17674981 words, keeping 123066 word types\n",
      "2020-07-26 20:46:08,116 : INFO : collected 123504 word types from a corpus of 17798082 raw words and 795538 sentences\n",
      "2020-07-26 20:46:08,116 : INFO : Loading a fresh vocabulary\n",
      "2020-07-26 20:46:08,182 : INFO : effective_min_count=40 retains 16490 unique words (13% of original 123504, drops 107014)\n",
      "2020-07-26 20:46:08,183 : INFO : effective_min_count=40 leaves 17238940 word corpus (96% of original 17798082, drops 559142)\n",
      "2020-07-26 20:46:08,226 : INFO : deleting the raw counts dictionary of 123504 items\n",
      "2020-07-26 20:46:08,229 : INFO : sample=0.001 downsamples 48 most-common words\n",
      "2020-07-26 20:46:08,229 : INFO : downsampling leaves estimated 12749658 word corpus (74.0% of prior 17238940)\n",
      "2020-07-26 20:46:08,264 : INFO : estimated required memory for 16490 words and 300 dimensions: 47821000 bytes\n",
      "2020-07-26 20:46:08,265 : INFO : resetting layer weights\n",
      "2020-07-26 20:46:10,985 : INFO : training model with 4 workers on 16490 vocabulary and 300 features, using sg=0 hs=0 sample=0.001 negative=5 window=10\n",
      "2020-07-26 20:46:11,998 : INFO : EPOCH 1 - PROGRESS: at 11.55% examples, 1459848 words/s, in_qsize 7, out_qsize 0\n",
      "2020-07-26 20:46:13,003 : INFO : EPOCH 1 - PROGRESS: at 22.87% examples, 1441519 words/s, in_qsize 7, out_qsize 0\n",
      "2020-07-26 20:46:14,004 : INFO : EPOCH 1 - PROGRESS: at 34.65% examples, 1458480 words/s, in_qsize 7, out_qsize 0\n",
      "2020-07-26 20:46:15,006 : INFO : EPOCH 1 - PROGRESS: at 45.71% examples, 1447292 words/s, in_qsize 7, out_qsize 0\n",
      "2020-07-26 20:46:16,014 : INFO : EPOCH 1 - PROGRESS: at 57.47% examples, 1457244 words/s, in_qsize 7, out_qsize 0\n",
      "2020-07-26 20:46:17,017 : INFO : EPOCH 1 - PROGRESS: at 69.36% examples, 1467501 words/s, in_qsize 7, out_qsize 0\n",
      "2020-07-26 20:46:18,023 : INFO : EPOCH 1 - PROGRESS: at 81.32% examples, 1474046 words/s, in_qsize 7, out_qsize 0\n",
      "2020-07-26 20:46:19,025 : INFO : EPOCH 1 - PROGRESS: at 93.23% examples, 1479848 words/s, in_qsize 7, out_qsize 0\n",
      "2020-07-26 20:46:19,578 : INFO : worker thread finished; awaiting finish of 3 more threads\n",
      "2020-07-26 20:46:19,587 : INFO : worker thread finished; awaiting finish of 2 more threads\n",
      "2020-07-26 20:46:19,590 : INFO : worker thread finished; awaiting finish of 1 more threads\n",
      "2020-07-26 20:46:19,592 : INFO : worker thread finished; awaiting finish of 0 more threads\n",
      "2020-07-26 20:46:19,592 : INFO : EPOCH - 1 : training on 17798082 raw words (12750468 effective words) took 8.6s, 1482854 effective words/s\n",
      "2020-07-26 20:46:20,603 : INFO : EPOCH 2 - PROGRESS: at 11.03% examples, 1396143 words/s, in_qsize 7, out_qsize 0\n",
      "2020-07-26 20:46:21,610 : INFO : EPOCH 2 - PROGRESS: at 22.93% examples, 1443778 words/s, in_qsize 7, out_qsize 0\n",
      "2020-07-26 20:46:22,611 : INFO : EPOCH 2 - PROGRESS: at 34.94% examples, 1469192 words/s, in_qsize 7, out_qsize 0\n",
      "2020-07-26 20:46:23,613 : INFO : EPOCH 2 - PROGRESS: at 46.78% examples, 1480112 words/s, in_qsize 7, out_qsize 0\n",
      "2020-07-26 20:46:24,616 : INFO : EPOCH 2 - PROGRESS: at 58.68% examples, 1489179 words/s, in_qsize 7, out_qsize 0\n",
      "2020-07-26 20:46:25,623 : INFO : EPOCH 2 - PROGRESS: at 70.60% examples, 1493197 words/s, in_qsize 7, out_qsize 0\n",
      "2020-07-26 20:46:26,624 : INFO : EPOCH 2 - PROGRESS: at 82.50% examples, 1496242 words/s, in_qsize 7, out_qsize 0\n",
      "2020-07-26 20:46:27,626 : INFO : EPOCH 2 - PROGRESS: at 94.43% examples, 1499227 words/s, in_qsize 7, out_qsize 0\n",
      "2020-07-26 20:46:28,082 : INFO : worker thread finished; awaiting finish of 3 more threads\n",
      "2020-07-26 20:46:28,085 : INFO : worker thread finished; awaiting finish of 2 more threads\n",
      "2020-07-26 20:46:28,094 : INFO : worker thread finished; awaiting finish of 1 more threads\n",
      "2020-07-26 20:46:28,096 : INFO : worker thread finished; awaiting finish of 0 more threads\n",
      "2020-07-26 20:46:28,096 : INFO : EPOCH - 2 : training on 17798082 raw words (12749248 effective words) took 8.5s, 1500404 effective words/s\n",
      "2020-07-26 20:46:29,103 : INFO : EPOCH 3 - PROGRESS: at 11.89% examples, 1508079 words/s, in_qsize 7, out_qsize 0\n",
      "2020-07-26 20:46:30,105 : INFO : EPOCH 3 - PROGRESS: at 23.93% examples, 1514687 words/s, in_qsize 7, out_qsize 0\n",
      "2020-07-26 20:46:31,111 : INFO : EPOCH 3 - PROGRESS: at 35.95% examples, 1514319 words/s, in_qsize 7, out_qsize 0\n",
      "2020-07-26 20:46:32,116 : INFO : EPOCH 3 - PROGRESS: at 47.89% examples, 1516218 words/s, in_qsize 7, out_qsize 0\n",
      "2020-07-26 20:46:33,121 : INFO : EPOCH 3 - PROGRESS: at 59.67% examples, 1514528 words/s, in_qsize 7, out_qsize 0\n",
      "2020-07-26 20:46:34,126 : INFO : EPOCH 3 - PROGRESS: at 70.66% examples, 1494771 words/s, in_qsize 7, out_qsize 0\n",
      "2020-07-26 20:46:35,127 : INFO : EPOCH 3 - PROGRESS: at 82.50% examples, 1496502 words/s, in_qsize 7, out_qsize 0\n",
      "2020-07-26 20:46:36,128 : INFO : EPOCH 3 - PROGRESS: at 94.21% examples, 1495923 words/s, in_qsize 7, out_qsize 0\n",
      "2020-07-26 20:46:36,608 : INFO : worker thread finished; awaiting finish of 3 more threads\n",
      "2020-07-26 20:46:36,612 : INFO : worker thread finished; awaiting finish of 2 more threads\n",
      "2020-07-26 20:46:36,615 : INFO : worker thread finished; awaiting finish of 1 more threads\n",
      "2020-07-26 20:46:36,622 : INFO : worker thread finished; awaiting finish of 0 more threads\n",
      "2020-07-26 20:46:36,623 : INFO : EPOCH - 3 : training on 17798082 raw words (12749604 effective words) took 8.5s, 1496377 effective words/s\n",
      "2020-07-26 20:46:37,630 : INFO : EPOCH 4 - PROGRESS: at 11.89% examples, 1508808 words/s, in_qsize 7, out_qsize 0\n",
      "2020-07-26 20:46:38,633 : INFO : EPOCH 4 - PROGRESS: at 23.93% examples, 1514219 words/s, in_qsize 7, out_qsize 0\n",
      "2020-07-26 20:46:39,635 : INFO : EPOCH 4 - PROGRESS: at 35.89% examples, 1513517 words/s, in_qsize 7, out_qsize 0\n",
      "2020-07-26 20:46:40,636 : INFO : EPOCH 4 - PROGRESS: at 47.62% examples, 1510472 words/s, in_qsize 7, out_qsize 0\n",
      "2020-07-26 20:46:41,637 : INFO : EPOCH 4 - PROGRESS: at 59.34% examples, 1509911 words/s, in_qsize 7, out_qsize 0\n",
      "2020-07-26 20:46:42,639 : INFO : EPOCH 4 - PROGRESS: at 71.16% examples, 1509448 words/s, in_qsize 7, out_qsize 0\n",
      "2020-07-26 20:46:43,642 : INFO : EPOCH 4 - PROGRESS: at 82.94% examples, 1507670 words/s, in_qsize 7, out_qsize 0\n",
      "2020-07-26 20:46:44,646 : INFO : EPOCH 4 - PROGRESS: at 94.49% examples, 1502591 words/s, in_qsize 7, out_qsize 0\n",
      "2020-07-26 20:46:45,151 : INFO : worker thread finished; awaiting finish of 3 more threads\n",
      "2020-07-26 20:46:45,154 : INFO : worker thread finished; awaiting finish of 2 more threads\n",
      "2020-07-26 20:46:45,163 : INFO : worker thread finished; awaiting finish of 1 more threads\n",
      "2020-07-26 20:46:45,165 : INFO : worker thread finished; awaiting finish of 0 more threads\n",
      "2020-07-26 20:46:45,166 : INFO : EPOCH - 4 : training on 17798082 raw words (12753243 effective words) took 8.5s, 1493998 effective words/s\n",
      "2020-07-26 20:46:46,173 : INFO : EPOCH 5 - PROGRESS: at 11.55% examples, 1463886 words/s, in_qsize 7, out_qsize 0\n",
      "2020-07-26 20:46:47,181 : INFO : EPOCH 5 - PROGRESS: at 23.38% examples, 1473895 words/s, in_qsize 7, out_qsize 0\n",
      "2020-07-26 20:46:48,184 : INFO : EPOCH 5 - PROGRESS: at 35.16% examples, 1478454 words/s, in_qsize 7, out_qsize 0\n",
      "2020-07-26 20:46:49,187 : INFO : EPOCH 5 - PROGRESS: at 46.83% examples, 1481786 words/s, in_qsize 7, out_qsize 0\n",
      "2020-07-26 20:46:50,190 : INFO : EPOCH 5 - PROGRESS: at 58.46% examples, 1483290 words/s, in_qsize 7, out_qsize 0\n",
      "2020-07-26 20:46:51,192 : INFO : EPOCH 5 - PROGRESS: at 70.16% examples, 1484849 words/s, in_qsize 7, out_qsize 0\n"
     ]
    },
    {
     "name": "stderr",
     "output_type": "stream",
     "text": [
      "2020-07-26 20:46:52,196 : INFO : EPOCH 5 - PROGRESS: at 81.92% examples, 1486363 words/s, in_qsize 7, out_qsize 0\n",
      "2020-07-26 20:46:53,197 : INFO : EPOCH 5 - PROGRESS: at 93.68% examples, 1488106 words/s, in_qsize 7, out_qsize 0\n",
      "2020-07-26 20:46:53,727 : INFO : worker thread finished; awaiting finish of 3 more threads\n",
      "2020-07-26 20:46:53,730 : INFO : worker thread finished; awaiting finish of 2 more threads\n",
      "2020-07-26 20:46:53,734 : INFO : worker thread finished; awaiting finish of 1 more threads\n",
      "2020-07-26 20:46:53,736 : INFO : worker thread finished; awaiting finish of 0 more threads\n",
      "2020-07-26 20:46:53,736 : INFO : EPOCH - 5 : training on 17798082 raw words (12749629 effective words) took 8.6s, 1488729 effective words/s\n",
      "2020-07-26 20:46:53,737 : INFO : training on a 88990410 raw words (63752192 effective words) took 42.8s, 1491217 effective words/s\n",
      "2020-07-26 20:46:53,737 : INFO : precomputing L2-norms of word weight vectors\n",
      "2020-07-26 20:46:53,755 : INFO : saving Word2Vec object under 300features_40minwords_10context, separately None\n",
      "2020-07-26 20:46:53,756 : INFO : not storing attribute vectors_norm\n",
      "2020-07-26 20:46:53,756 : INFO : not storing attribute cum_table\n",
      "2020-07-26 20:46:54,038 : INFO : saved 300features_40minwords_10context\n"
     ]
    }
   ],
   "source": [
    "#Import the built-in logging module and configure it so that \n",
    "# Word2Vec creates nice output messages\n",
    "import logging\n",
    "logging.basicConfig(format='%(asctime)s : %(levelname)s : %(message)s',level=logging.INFO)\n",
    "\n",
    "# Set values for various parameters\n",
    "num_features = 300    # Word vector dimensionality                      \n",
    "min_word_count = 40   # Minimum word count                        \n",
    "num_workers = 4       # Number of threads to run in parallel\n",
    "context = 10          # Context window size                                                                                    \n",
    "downsampling = 1e-3   # Downsample setting for frequent words\n",
    "\n",
    "# Initialize and train the model (this will take some time)\n",
    "from gensim.models import word2vec\n",
    "model = word2vec.Word2Vec(sentences, workers=num_workers, \\\n",
    "            size=num_features, min_count = min_word_count, \\\n",
    "            window = context, sample = downsampling)\n",
    "\n",
    "# If you don't plan to train the model any further, calling \n",
    "# init_sims will make the model much more memory-efficient.\n",
    "model.init_sims(replace=True)\n",
    "\n",
    "# It can be helpful to create a meaningful model name and \n",
    "# save the model for later use. You can load it later using Word2Vec.load()\n",
    "model_name = \"300features_40minwords_10context\"\n",
    "model.save(model_name)"
   ]
  },
  {
   "cell_type": "markdown",
   "metadata": {},
   "source": [
    "## Exploring the Model Results"
   ]
  },
  {
   "cell_type": "code",
   "execution_count": 11,
   "metadata": {},
   "outputs": [
    {
     "name": "stderr",
     "output_type": "stream",
     "text": [
      "<ipython-input-11-c4c7e8da36b4>:1: DeprecationWarning: Call to deprecated `doesnt_match` (Method will be removed in 4.0.0, use self.wv.doesnt_match() instead).\n",
      "  model.doesnt_match(\"man woman child kitchen\".split())\n",
      "/Library/Frameworks/Python.framework/Versions/3.8/lib/python3.8/site-packages/gensim/models/keyedvectors.py:877: FutureWarning: arrays to stack must be passed as a \"sequence\" type such as list or tuple. Support for non-sequence iterables such as generators is deprecated as of NumPy 1.16 and will raise an error in the future.\n",
      "  vectors = vstack(self.word_vec(word, use_norm=True) for word in used_words).astype(REAL)\n"
     ]
    },
    {
     "data": {
      "text/plain": [
       "'kitchen'"
      ]
     },
     "execution_count": 11,
     "metadata": {},
     "output_type": "execute_result"
    }
   ],
   "source": [
    "model.doesnt_match(\"man woman child kitchen\".split())"
   ]
  },
  {
   "cell_type": "code",
   "execution_count": 12,
   "metadata": {},
   "outputs": [
    {
     "name": "stderr",
     "output_type": "stream",
     "text": [
      "<ipython-input-12-9662f6ae2831>:1: DeprecationWarning: Call to deprecated `doesnt_match` (Method will be removed in 4.0.0, use self.wv.doesnt_match() instead).\n",
      "  model.doesnt_match(\"france england germany berlin\".split())\n"
     ]
    },
    {
     "data": {
      "text/plain": [
       "'berlin'"
      ]
     },
     "execution_count": 12,
     "metadata": {},
     "output_type": "execute_result"
    }
   ],
   "source": [
    "model.doesnt_match(\"france england germany berlin\".split())"
   ]
  },
  {
   "cell_type": "code",
   "execution_count": 13,
   "metadata": {},
   "outputs": [
    {
     "name": "stderr",
     "output_type": "stream",
     "text": [
      "<ipython-input-13-216414787a03>:1: DeprecationWarning: Call to deprecated `most_similar` (Method will be removed in 4.0.0, use self.wv.most_similar() instead).\n",
      "  model.most_similar(\"man\")\n"
     ]
    },
    {
     "data": {
      "text/plain": [
       "[('woman', 0.6198266744613647),\n",
       " ('lady', 0.5873533487319946),\n",
       " ('lad', 0.5845341682434082),\n",
       " ('monk', 0.5563859939575195),\n",
       " ('guy', 0.5187093615531921),\n",
       " ('farmer', 0.5182954668998718),\n",
       " ('millionaire', 0.5144025087356567),\n",
       " ('men', 0.5098545551300049),\n",
       " ('poet', 0.5087412595748901),\n",
       " ('person', 0.5057824850082397)]"
      ]
     },
     "execution_count": 13,
     "metadata": {},
     "output_type": "execute_result"
    }
   ],
   "source": [
    "model.most_similar(\"man\")"
   ]
  },
  {
   "cell_type": "code",
   "execution_count": 14,
   "metadata": {},
   "outputs": [
    {
     "name": "stderr",
     "output_type": "stream",
     "text": [
      "<ipython-input-14-2e939e56c538>:1: DeprecationWarning: Call to deprecated `most_similar` (Method will be removed in 4.0.0, use self.wv.most_similar() instead).\n",
      "  model.most_similar(\"queen\")\n"
     ]
    },
    {
     "data": {
      "text/plain": [
       "[('princess', 0.6964932084083557),\n",
       " ('victoria', 0.6224511861801147),\n",
       " ('stepmother', 0.5992405414581299),\n",
       " ('bride', 0.5978810787200928),\n",
       " ('showgirl', 0.5905983448028564),\n",
       " ('maid', 0.5882009267807007),\n",
       " ('belle', 0.5784566402435303),\n",
       " ('matriarch', 0.5723055601119995),\n",
       " ('goddess', 0.5702708959579468),\n",
       " ('duchess', 0.5685244798660278)]"
      ]
     },
     "execution_count": 14,
     "metadata": {},
     "output_type": "execute_result"
    }
   ],
   "source": [
    "model.most_similar(\"queen\")"
   ]
  },
  {
   "cell_type": "code",
   "execution_count": 15,
   "metadata": {},
   "outputs": [
    {
     "name": "stderr",
     "output_type": "stream",
     "text": [
      "<ipython-input-15-efd9e43fbdfc>:1: DeprecationWarning: Call to deprecated `most_similar` (Method will be removed in 4.0.0, use self.wv.most_similar() instead).\n",
      "  model.most_similar(\"awful\")\n"
     ]
    },
    {
     "data": {
      "text/plain": [
       "[('terrible', 0.7849938273429871),\n",
       " ('atrocious', 0.7352379560470581),\n",
       " ('horrible', 0.7279231548309326),\n",
       " ('dreadful', 0.7238084077835083),\n",
       " ('abysmal', 0.7108128666877747),\n",
       " ('horrid', 0.7011642456054688),\n",
       " ('horrendous', 0.6877871155738831),\n",
       " ('appalling', 0.666085422039032),\n",
       " ('lousy', 0.6280928254127502),\n",
       " ('amateurish', 0.6039836406707764)]"
      ]
     },
     "execution_count": 15,
     "metadata": {},
     "output_type": "execute_result"
    }
   ],
   "source": [
    "model.most_similar(\"awful\")"
   ]
  },
  {
   "cell_type": "code",
   "execution_count": null,
   "metadata": {},
   "outputs": [],
   "source": []
  }
 ],
 "metadata": {
  "kernelspec": {
   "display_name": "Python 3",
   "language": "python",
   "name": "python3"
  },
  "language_info": {
   "codemirror_mode": {
    "name": "ipython",
    "version": 3
   },
   "file_extension": ".py",
   "mimetype": "text/x-python",
   "name": "python",
   "nbconvert_exporter": "python",
   "pygments_lexer": "ipython3",
   "version": "3.8.1"
  }
 },
 "nbformat": 4,
 "nbformat_minor": 4
}
